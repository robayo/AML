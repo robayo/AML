{
 "cells": [
  {
   "cell_type": "markdown",
   "id": "94367b78",
   "metadata": {},
   "source": [
    "# Data Exploration: Elliptic Dataset\n",
    "# Augmentate network features\n",
    "https://www.kaggle.com/datasets/ellipticco/elliptic-data-set/data\n",
    "\n",
    "[1] Elliptic, www.elliptic.co.\n",
    "\n",
    "[2] M. Weber, G. Domeniconi, J. Chen, D. K. I. Weidele, C. Bellei, T. Robinson, C. E. Leiserson, \"Anti-Money Laundering in Bitcoin: Experimenting with Graph Convolutional Networks for Financial Forensics\", KDD ’19 Workshop on Anomaly Detection in Finance, August 2019, Anchorage, AK, USA.\n",
    "\n",
    "Description: The Elliptic Data Set maps Bitcoin transactions to real entities belonging to licit categories (exchanges, wallet providers, miners, licit services, etc.) versus illicit ones (scams, malware, terrorist organizations, ransomware, Ponzi schemes, etc.). The task on the dataset is to classify the illicit and licit nodes in the graph.\n"
   ]
  },
  {
   "cell_type": "code",
   "execution_count": 1,
   "id": "851d1e37",
   "metadata": {},
   "outputs": [],
   "source": [
    "import pandas as pd\n",
    "from src.features.network_features import *\n",
    "from src.data.load_data import load_elliptic_dataset\n",
    "pd.options.plotting.backend = 'plotly'\n",
    "import random\n",
    "import numpy as np\n",
    "from sklearn.ensemble import RandomForestClassifier\n",
    "from sklearn.metrics import classification_report\n",
    "import torch\n",
    "\n"
   ]
  },
  {
   "cell_type": "code",
   "execution_count": 2,
   "id": "3443bb4b",
   "metadata": {},
   "outputs": [],
   "source": [
    "DATA_PATH = 'data/raw/'\n",
    "nodes_df, edges_df = load_elliptic_dataset(DATA_PATH)\n",
    "nodes_df['class_label'] = nodes_df['class_label'].replace(['1', '2', 'unknown'], ['illicit', 'licit', 'unknown'])"
   ]
  },
  {
   "cell_type": "code",
   "execution_count": 3,
   "id": "81d984b6",
   "metadata": {},
   "outputs": [
    {
     "data": {
      "text/plain": [
       "<torch._C.Generator at 0x11c9c6710>"
      ]
     },
     "execution_count": 3,
     "metadata": {},
     "output_type": "execute_result"
    }
   ],
   "source": [
    "# Set random seeds for reproducibility\n",
    "random.seed(42)\n",
    "np.random.seed(42)\n",
    "torch.manual_seed(42)"
   ]
  },
  {
   "cell_type": "code",
   "execution_count": 4,
   "id": "9ad8d096",
   "metadata": {},
   "outputs": [
    {
     "name": "stdout",
     "output_type": "stream",
     "text": [
      "Graph has 203769 nodes and 234355 edges\n",
      "Building time step graphs...\n",
      "Created 49 separate graphs for different time steps\n"
     ]
    }
   ],
   "source": [
    "G = build_nx_graph(edges_df)\n",
    "print(f\"Graph has {G.number_of_nodes()} nodes and {G.number_of_edges()} edges\")\n",
    "labels = create_label_dict(nodes_df)\n",
    "print(\"Building time step graphs...\")\n",
    "time_step_graphs = build_time_step_graphs(edges_df, nodes_df)\n",
    "print(f\"Created {len(time_step_graphs)} separate graphs for different time steps\")"
   ]
  },
  {
   "cell_type": "code",
   "execution_count": 5,
   "id": "04f6fdce",
   "metadata": {},
   "outputs": [
    {
     "name": "stdout",
     "output_type": "stream",
     "text": [
      "Computing GuiltyWalker features...\n"
     ]
    },
    {
     "name": "stderr",
     "output_type": "stream",
     "text": [
      "Processing time steps: 100%|█████████████████████████████████████████████████| 49/49 [06:44<00:00,  8.25s/it]\n"
     ]
    }
   ],
   "source": [
    "# 4. Compute GuiltyWalker features\n",
    "print(\"Computing GuiltyWalker features...\")\n",
    "gw_features = guilty_walker_features(nodes_df, time_step_graphs)"
   ]
  },
  {
   "cell_type": "code",
   "execution_count": 6,
   "id": "7467ff02",
   "metadata": {},
   "outputs": [
    {
     "data": {
      "application/vnd.microsoft.datawrangler.viewer.v0+json": {
       "columns": [
        {
         "name": "index",
         "rawType": "int64",
         "type": "integer"
        },
        {
         "name": "txId",
         "rawType": "object",
         "type": "string"
        },
        {
         "name": "gw_hit_ratio",
         "rawType": "float64",
         "type": "float"
        },
        {
         "name": "gw_min_step",
         "rawType": "int64",
         "type": "integer"
        },
        {
         "name": "gw_avg_step",
         "rawType": "float64",
         "type": "float"
        },
        {
         "name": "gw_unique_illicit",
         "rawType": "int64",
         "type": "integer"
        },
        {
         "name": "class_label",
         "rawType": "object",
         "type": "string"
        }
       ],
       "conversionMethod": "pd.DataFrame",
       "ref": "fb8b5ae5-4028-4ee6-84fe-e593c2984d29",
       "rows": [
        [
         "907",
         "232629023",
         "0.0",
         "51",
         "51.0",
         "0",
         "illicit"
        ],
        [
         "1361",
         "230389796",
         "0.0",
         "51",
         "51.0",
         "0",
         "illicit"
        ],
        [
         "2718",
         "17387772",
         "0.0",
         "51",
         "51.0",
         "0",
         "illicit"
        ],
        [
         "2815",
         "232947878",
         "0.0",
         "51",
         "51.0",
         "0",
         "illicit"
        ],
        [
         "3423",
         "16754007",
         "0.0",
         "51",
         "51.0",
         "0",
         "illicit"
        ],
        [
         "4881",
         "231990430",
         "0.0",
         "51",
         "51.0",
         "0",
         "illicit"
        ],
        [
         "5037",
         "232014511",
         "0.0",
         "51",
         "51.0",
         "0",
         "illicit"
        ],
        [
         "5120",
         "24141114",
         "0.0",
         "51",
         "51.0",
         "0",
         "illicit"
        ],
        [
         "5438",
         "62195631",
         "0.0",
         "51",
         "51.0",
         "0",
         "illicit"
        ],
        [
         "6255",
         "24155910",
         "0.0",
         "51",
         "51.0",
         "0",
         "illicit"
        ],
        [
         "7158",
         "16742787",
         "0.0",
         "51",
         "51.0",
         "0",
         "illicit"
        ],
        [
         "7409",
         "231990435",
         "0.0",
         "51",
         "51.0",
         "0",
         "illicit"
        ],
        [
         "7418",
         "17796937",
         "0.0",
         "51",
         "51.0",
         "0",
         "illicit"
        ],
        [
         "7439",
         "184703182",
         "0.0",
         "51",
         "51.0",
         "0",
         "illicit"
        ],
        [
         "7543",
         "16753577",
         "0.0",
         "51",
         "51.0",
         "0",
         "illicit"
        ],
        [
         "7714",
         "232345692",
         "0.0",
         "51",
         "51.0",
         "0",
         "illicit"
        ],
        [
         "7811",
         "3205536",
         "0.0",
         "51",
         "51.0",
         "0",
         "illicit"
        ],
        [
         "8009",
         "115643001",
         "0.0",
         "51",
         "51.0",
         "0",
         "illicit"
        ],
        [
         "8103",
         "310048974",
         "0.0",
         "51",
         "51.0",
         "0",
         "illicit"
        ],
        [
         "8529",
         "310399847",
         "0.0",
         "51",
         "51.0",
         "0",
         "illicit"
        ],
        [
         "8881",
         "286784958",
         "0.0",
         "51",
         "51.0",
         "0",
         "illicit"
        ],
        [
         "9330",
         "289269312",
         "0.0",
         "51",
         "51.0",
         "0",
         "illicit"
        ],
        [
         "10237",
         "258624857",
         "0.0",
         "51",
         "51.0",
         "0",
         "illicit"
        ],
        [
         "10498",
         "309924066",
         "0.0",
         "51",
         "51.0",
         "0",
         "illicit"
        ],
        [
         "10699",
         "286784427",
         "0.0",
         "51",
         "51.0",
         "0",
         "illicit"
        ],
        [
         "10935",
         "289270308",
         "0.0",
         "51",
         "51.0",
         "0",
         "illicit"
        ],
        [
         "11025",
         "312106094",
         "0.0",
         "51",
         "51.0",
         "0",
         "illicit"
        ],
        [
         "11348",
         "312334552",
         "0.0",
         "51",
         "51.0",
         "0",
         "illicit"
        ],
        [
         "11655",
         "212659519",
         "0.0",
         "51",
         "51.0",
         "0",
         "illicit"
        ],
        [
         "11988",
         "286654752",
         "0.0",
         "51",
         "51.0",
         "0",
         "illicit"
        ],
        [
         "12086",
         "313900565",
         "0.0",
         "51",
         "51.0",
         "0",
         "illicit"
        ],
        [
         "12199",
         "296057714",
         "0.0",
         "51",
         "51.0",
         "0",
         "illicit"
        ],
        [
         "12293",
         "310043610",
         "0.0",
         "51",
         "51.0",
         "0",
         "illicit"
        ],
        [
         "12342",
         "286756215",
         "0.0",
         "51",
         "51.0",
         "0",
         "illicit"
        ],
        [
         "12382",
         "310524772",
         "0.0",
         "51",
         "51.0",
         "0",
         "illicit"
        ],
        [
         "15180",
         "244662723",
         "0.0",
         "51",
         "51.0",
         "0",
         "illicit"
        ],
        [
         "15690",
         "245140933",
         "0.0",
         "51",
         "51.0",
         "0",
         "illicit"
        ],
        [
         "16717",
         "245294955",
         "0.0",
         "51",
         "51.0",
         "0",
         "illicit"
        ],
        [
         "16950",
         "245420039",
         "0.0",
         "51",
         "51.0",
         "0",
         "illicit"
        ],
        [
         "17069",
         "245715541",
         "0.0",
         "51",
         "51.0",
         "0",
         "illicit"
        ],
        [
         "17740",
         "27742555",
         "0.0",
         "51",
         "51.0",
         "0",
         "illicit"
        ],
        [
         "17866",
         "245146113",
         "0.0",
         "51",
         "51.0",
         "0",
         "illicit"
        ],
        [
         "18265",
         "246036358",
         "0.0",
         "51",
         "51.0",
         "0",
         "illicit"
        ],
        [
         "18421",
         "245712851",
         "0.0",
         "51",
         "51.0",
         "0",
         "illicit"
        ],
        [
         "18427",
         "245146107",
         "0.0",
         "51",
         "51.0",
         "0",
         "illicit"
        ],
        [
         "18901",
         "245231973",
         "0.0",
         "51",
         "51.0",
         "0",
         "illicit"
        ],
        [
         "19197",
         "86739424",
         "0.0",
         "51",
         "51.0",
         "0",
         "illicit"
        ],
        [
         "19502",
         "87690267",
         "0.0",
         "51",
         "51.0",
         "0",
         "illicit"
        ],
        [
         "19635",
         "45751341",
         "0.0",
         "51",
         "51.0",
         "0",
         "illicit"
        ],
        [
         "19917",
         "16809915",
         "0.0",
         "51",
         "51.0",
         "0",
         "illicit"
        ]
       ],
       "shape": {
        "columns": 6,
        "rows": 4545
       }
      },
      "text/html": [
       "<div>\n",
       "<style scoped>\n",
       "    .dataframe tbody tr th:only-of-type {\n",
       "        vertical-align: middle;\n",
       "    }\n",
       "\n",
       "    .dataframe tbody tr th {\n",
       "        vertical-align: top;\n",
       "    }\n",
       "\n",
       "    .dataframe thead th {\n",
       "        text-align: right;\n",
       "    }\n",
       "</style>\n",
       "<table border=\"1\" class=\"dataframe\">\n",
       "  <thead>\n",
       "    <tr style=\"text-align: right;\">\n",
       "      <th></th>\n",
       "      <th>txId</th>\n",
       "      <th>gw_hit_ratio</th>\n",
       "      <th>gw_min_step</th>\n",
       "      <th>gw_avg_step</th>\n",
       "      <th>gw_unique_illicit</th>\n",
       "      <th>class_label</th>\n",
       "    </tr>\n",
       "  </thead>\n",
       "  <tbody>\n",
       "    <tr>\n",
       "      <th>907</th>\n",
       "      <td>232629023</td>\n",
       "      <td>0.0</td>\n",
       "      <td>51</td>\n",
       "      <td>51.0</td>\n",
       "      <td>0</td>\n",
       "      <td>illicit</td>\n",
       "    </tr>\n",
       "    <tr>\n",
       "      <th>1361</th>\n",
       "      <td>230389796</td>\n",
       "      <td>0.0</td>\n",
       "      <td>51</td>\n",
       "      <td>51.0</td>\n",
       "      <td>0</td>\n",
       "      <td>illicit</td>\n",
       "    </tr>\n",
       "    <tr>\n",
       "      <th>2718</th>\n",
       "      <td>17387772</td>\n",
       "      <td>0.0</td>\n",
       "      <td>51</td>\n",
       "      <td>51.0</td>\n",
       "      <td>0</td>\n",
       "      <td>illicit</td>\n",
       "    </tr>\n",
       "    <tr>\n",
       "      <th>2815</th>\n",
       "      <td>232947878</td>\n",
       "      <td>0.0</td>\n",
       "      <td>51</td>\n",
       "      <td>51.0</td>\n",
       "      <td>0</td>\n",
       "      <td>illicit</td>\n",
       "    </tr>\n",
       "    <tr>\n",
       "      <th>3423</th>\n",
       "      <td>16754007</td>\n",
       "      <td>0.0</td>\n",
       "      <td>51</td>\n",
       "      <td>51.0</td>\n",
       "      <td>0</td>\n",
       "      <td>illicit</td>\n",
       "    </tr>\n",
       "    <tr>\n",
       "      <th>...</th>\n",
       "      <td>...</td>\n",
       "      <td>...</td>\n",
       "      <td>...</td>\n",
       "      <td>...</td>\n",
       "      <td>...</td>\n",
       "      <td>...</td>\n",
       "    </tr>\n",
       "    <tr>\n",
       "      <th>203685</th>\n",
       "      <td>159043651</td>\n",
       "      <td>0.0</td>\n",
       "      <td>51</td>\n",
       "      <td>51.0</td>\n",
       "      <td>0</td>\n",
       "      <td>illicit</td>\n",
       "    </tr>\n",
       "    <tr>\n",
       "      <th>203708</th>\n",
       "      <td>158360779</td>\n",
       "      <td>0.0</td>\n",
       "      <td>51</td>\n",
       "      <td>51.0</td>\n",
       "      <td>0</td>\n",
       "      <td>illicit</td>\n",
       "    </tr>\n",
       "    <tr>\n",
       "      <th>203736</th>\n",
       "      <td>159028476</td>\n",
       "      <td>0.0</td>\n",
       "      <td>51</td>\n",
       "      <td>51.0</td>\n",
       "      <td>0</td>\n",
       "      <td>illicit</td>\n",
       "    </tr>\n",
       "    <tr>\n",
       "      <th>203759</th>\n",
       "      <td>158375075</td>\n",
       "      <td>0.0</td>\n",
       "      <td>51</td>\n",
       "      <td>51.0</td>\n",
       "      <td>0</td>\n",
       "      <td>illicit</td>\n",
       "    </tr>\n",
       "    <tr>\n",
       "      <th>203766</th>\n",
       "      <td>158375402</td>\n",
       "      <td>0.0</td>\n",
       "      <td>51</td>\n",
       "      <td>51.0</td>\n",
       "      <td>0</td>\n",
       "      <td>illicit</td>\n",
       "    </tr>\n",
       "  </tbody>\n",
       "</table>\n",
       "<p>4545 rows × 6 columns</p>\n",
       "</div>"
      ],
      "text/plain": [
       "             txId  gw_hit_ratio  gw_min_step  gw_avg_step  gw_unique_illicit  \\\n",
       "907     232629023           0.0           51         51.0                  0   \n",
       "1361    230389796           0.0           51         51.0                  0   \n",
       "2718     17387772           0.0           51         51.0                  0   \n",
       "2815    232947878           0.0           51         51.0                  0   \n",
       "3423     16754007           0.0           51         51.0                  0   \n",
       "...           ...           ...          ...          ...                ...   \n",
       "203685  159043651           0.0           51         51.0                  0   \n",
       "203708  158360779           0.0           51         51.0                  0   \n",
       "203736  159028476           0.0           51         51.0                  0   \n",
       "203759  158375075           0.0           51         51.0                  0   \n",
       "203766  158375402           0.0           51         51.0                  0   \n",
       "\n",
       "       class_label  \n",
       "907        illicit  \n",
       "1361       illicit  \n",
       "2718       illicit  \n",
       "2815       illicit  \n",
       "3423       illicit  \n",
       "...            ...  \n",
       "203685     illicit  \n",
       "203708     illicit  \n",
       "203736     illicit  \n",
       "203759     illicit  \n",
       "203766     illicit  \n",
       "\n",
       "[4545 rows x 6 columns]"
      ]
     },
     "execution_count": 6,
     "metadata": {},
     "output_type": "execute_result"
    }
   ],
   "source": [
    "gw_features.merge(nodes_df[['txId', 'class_label']], on = 'txId').query('class_label == \"illicit\" & gw_avg_step != 1')"
   ]
  },
  {
   "cell_type": "code",
   "execution_count": 7,
   "id": "63a22450",
   "metadata": {},
   "outputs": [],
   "source": [
    "from sklearn.model_selection import train_test_split"
   ]
  },
  {
   "cell_type": "code",
   "execution_count": 8,
   "id": "c9ac5fc1",
   "metadata": {},
   "outputs": [],
   "source": [
    "# Assuming nodes_df is your original dataframe\n",
    "feature_cols = nodes_df.drop(columns=['txId', 'time_step', 'class_label']).columns.to_list()\n",
    "\n",
    "# Add a SET column initialized with 'unknown' for all rows\n",
    "nodes_df['SET'] = 'unknown'\n",
    "\n",
    "# Split the labeled data indices\n",
    "labeled_indices = nodes_df[nodes_df['class_label'] != 'unknown'].index\n",
    "unlabeled_indices = nodes_df[nodes_df['class_label'] == 'unknown'].index\n",
    "\n",
    "# Assign 'unlabeled' to all unlabeled observations\n",
    "nodes_df.loc[unlabeled_indices, 'SET'] = 'train'\n",
    "\n",
    "# Split the labeled indices into train, validation, and test sets\n",
    "temp_indices, test_indices = train_test_split(\n",
    "    labeled_indices, \n",
    "    test_size=0.2, \n",
    "    random_state=42, \n",
    "    stratify=nodes_df.loc[labeled_indices, 'class_label']\n",
    ")\n",
    "\n",
    "train_indices, val_indices = train_test_split(\n",
    "    temp_indices, \n",
    "    test_size=0.25, \n",
    "    random_state=42, \n",
    "    stratify=nodes_df.loc[temp_indices, 'class_label']\n",
    ")\n",
    "\n",
    "# Assign the SET values\n",
    "nodes_df.loc[train_indices, 'SET'] = 'train'\n",
    "nodes_df.loc[val_indices, 'SET'] = 'validation'\n",
    "nodes_df.loc[test_indices, 'SET'] = 'test'\n"
   ]
  },
  {
   "cell_type": "code",
   "execution_count": 9,
   "id": "96db57af",
   "metadata": {},
   "outputs": [
    {
     "name": "stderr",
     "output_type": "stream",
     "text": [
      "GCN Embeddings:   0%|                                                                 | 0/49 [00:00<?, ?it/s]/Users/nick/AML/src/features/network_features.py:196: UserWarning: To copy construct from a tensor, it is recommended to use sourceTensor.detach().clone() or sourceTensor.detach().clone().requires_grad_(True), rather than torch.tensor(sourceTensor).\n",
      "  train_mask = torch.tensor(train_mask, dtype=torch.bool)\n"
     ]
    },
    {
     "name": "stdout",
     "output_type": "stream",
     "text": [
      "Time step 1, Epoch 0: Loss 11.7355\n",
      "Time step 1, Epoch 10: Loss 4.1549\n",
      "Time step 1, Epoch 20: Loss 0.6779\n",
      "Time step 1, Epoch 30: Loss 0.2726\n",
      "Time step 1, Epoch 40: Loss 0.1482\n",
      "Time step 1, Epoch 50: Loss 0.1019\n",
      "Time step 1, Epoch 60: Loss 0.0796\n",
      "Time step 1, Epoch 70: Loss 0.0631\n",
      "Time step 1, Epoch 80: Loss 0.0545\n",
      "Time step 1, Epoch 90: Loss 0.0521\n",
      "Time step 1, Epoch 100: Loss 0.0434\n",
      "Time step 1, Epoch 110: Loss 0.0412\n",
      "Time step 1, Epoch 120: Loss 0.0346\n",
      "Time step 1, Epoch 130: Loss 0.0277\n",
      "Time step 1, Epoch 140: Loss 0.0311\n",
      "Time step 1, Epoch 150: Loss 0.0286\n",
      "Time step 1, Epoch 160: Loss 0.0275\n",
      "Time step 1, Epoch 170: Loss 0.0245\n",
      "Time step 1, Epoch 180: Loss 0.0244\n",
      "Time step 1, Epoch 190: Loss 0.0218\n",
      "Time step 1, Epoch 200: Loss 0.0232\n",
      "Time step 1, Epoch 210: Loss 0.0185\n",
      "Time step 1, Epoch 220: Loss 0.0207\n",
      "Time step 1, Epoch 230: Loss 0.0201\n",
      "Time step 1, Epoch 240: Loss 0.0201\n",
      "Time step 1, Epoch 250: Loss 0.0174\n",
      "Time step 1, Epoch 260: Loss 0.0168\n",
      "Time step 1, Epoch 270: Loss 0.0174\n",
      "Time step 1, Epoch 280: Loss 0.0155\n",
      "Time step 1, Epoch 290: Loss 0.0173\n",
      "Time step 1, Epoch 300: Loss 0.0139\n",
      "Time step 1, Epoch 310: Loss 0.0164\n",
      "Time step 1, Epoch 320: Loss 0.0131\n",
      "Time step 1, Epoch 330: Loss 0.0139\n",
      "Time step 1, Epoch 340: Loss 0.0147\n",
      "Time step 1, Epoch 350: Loss 0.0119\n",
      "Time step 1, Epoch 360: Loss 0.0126\n",
      "Time step 1, Epoch 370: Loss 0.0125\n",
      "Time step 1, Epoch 380: Loss 0.0123\n",
      "Time step 1, Epoch 390: Loss 0.0106\n"
     ]
    },
    {
     "name": "stderr",
     "output_type": "stream",
     "text": [
      "GCN Embeddings:   2%|█▏                                                       | 1/49 [00:13<10:27, 13.07s/it]/Users/nick/AML/src/features/network_features.py:196: UserWarning: To copy construct from a tensor, it is recommended to use sourceTensor.detach().clone() or sourceTensor.detach().clone().requires_grad_(True), rather than torch.tensor(sourceTensor).\n",
      "  train_mask = torch.tensor(train_mask, dtype=torch.bool)\n"
     ]
    },
    {
     "name": "stdout",
     "output_type": "stream",
     "text": [
      "Time step 2, Epoch 0: Loss 4.7589\n",
      "Time step 2, Epoch 10: Loss 1.2878\n",
      "Time step 2, Epoch 20: Loss 0.4482\n",
      "Time step 2, Epoch 30: Loss 0.2141\n",
      "Time step 2, Epoch 40: Loss 0.1373\n",
      "Time step 2, Epoch 50: Loss 0.1035\n",
      "Time step 2, Epoch 60: Loss 0.0761\n",
      "Time step 2, Epoch 70: Loss 0.0631\n",
      "Time step 2, Epoch 80: Loss 0.0572\n",
      "Time step 2, Epoch 90: Loss 0.0467\n",
      "Time step 2, Epoch 100: Loss 0.0476\n",
      "Time step 2, Epoch 110: Loss 0.0399\n",
      "Time step 2, Epoch 120: Loss 0.0356\n",
      "Time step 2, Epoch 130: Loss 0.0339\n",
      "Time step 2, Epoch 140: Loss 0.0301\n",
      "Time step 2, Epoch 150: Loss 0.0328\n",
      "Time step 2, Epoch 160: Loss 0.0265\n",
      "Time step 2, Epoch 170: Loss 0.0279\n",
      "Time step 2, Epoch 180: Loss 0.0268\n",
      "Time step 2, Epoch 190: Loss 0.0239\n",
      "Time step 2, Epoch 200: Loss 0.0217\n",
      "Time step 2, Epoch 210: Loss 0.0188\n",
      "Time step 2, Epoch 220: Loss 0.0175\n",
      "Time step 2, Epoch 230: Loss 0.0205\n",
      "Time step 2, Epoch 240: Loss 0.0140\n",
      "Time step 2, Epoch 250: Loss 0.0147\n",
      "Time step 2, Epoch 260: Loss 0.0134\n",
      "Time step 2, Epoch 270: Loss 0.0135\n",
      "Time step 2, Epoch 280: Loss 0.0145\n",
      "Time step 2, Epoch 290: Loss 0.0134\n",
      "Time step 2, Epoch 300: Loss 0.0103\n",
      "Time step 2, Epoch 310: Loss 0.0095\n",
      "Time step 2, Epoch 320: Loss 0.0102\n",
      "Time step 2, Epoch 330: Loss 0.0092\n",
      "Time step 2, Epoch 340: Loss 0.0090\n",
      "Time step 2, Epoch 350: Loss 0.0089\n",
      "Time step 2, Epoch 360: Loss 0.0095\n",
      "Time step 2, Epoch 370: Loss 0.0103\n",
      "Time step 2, Epoch 380: Loss 0.0084\n"
     ]
    },
    {
     "name": "stderr",
     "output_type": "stream",
     "text": [
      "GCN Embeddings:   4%|██▎                                                      | 2/49 [00:22<08:35, 10.96s/it]"
     ]
    },
    {
     "name": "stdout",
     "output_type": "stream",
     "text": [
      "Time step 2, Epoch 390: Loss 0.0083\n"
     ]
    },
    {
     "name": "stderr",
     "output_type": "stream",
     "text": [
      "/Users/nick/AML/src/features/network_features.py:196: UserWarning: To copy construct from a tensor, it is recommended to use sourceTensor.detach().clone() or sourceTensor.detach().clone().requires_grad_(True), rather than torch.tensor(sourceTensor).\n",
      "  train_mask = torch.tensor(train_mask, dtype=torch.bool)\n"
     ]
    },
    {
     "name": "stdout",
     "output_type": "stream",
     "text": [
      "Time step 3, Epoch 0: Loss 5.6562\n",
      "Time step 3, Epoch 10: Loss 1.9098\n",
      "Time step 3, Epoch 20: Loss 0.5687\n",
      "Time step 3, Epoch 30: Loss 0.2285\n",
      "Time step 3, Epoch 40: Loss 0.1261\n",
      "Time step 3, Epoch 50: Loss 0.0853\n",
      "Time step 3, Epoch 60: Loss 0.0673\n",
      "Time step 3, Epoch 70: Loss 0.0548\n",
      "Time step 3, Epoch 80: Loss 0.0425\n",
      "Time step 3, Epoch 90: Loss 0.0402\n",
      "Time step 3, Epoch 100: Loss 0.0364\n",
      "Time step 3, Epoch 110: Loss 0.0340\n",
      "Time step 3, Epoch 120: Loss 0.0341\n",
      "Time step 3, Epoch 130: Loss 0.0263\n",
      "Time step 3, Epoch 140: Loss 0.0272\n",
      "Time step 3, Epoch 150: Loss 0.0239\n",
      "Time step 3, Epoch 160: Loss 0.0210\n",
      "Time step 3, Epoch 170: Loss 0.0219\n",
      "Time step 3, Epoch 180: Loss 0.0195\n",
      "Time step 3, Epoch 190: Loss 0.0203\n",
      "Time step 3, Epoch 200: Loss 0.0173\n",
      "Time step 3, Epoch 210: Loss 0.0159\n",
      "Time step 3, Epoch 220: Loss 0.0169\n",
      "Time step 3, Epoch 230: Loss 0.0148\n",
      "Time step 3, Epoch 240: Loss 0.0170\n",
      "Time step 3, Epoch 250: Loss 0.0151\n",
      "Time step 3, Epoch 260: Loss 0.0136\n",
      "Time step 3, Epoch 270: Loss 0.0152\n",
      "Time step 3, Epoch 280: Loss 0.0143\n",
      "Time step 3, Epoch 290: Loss 0.0097\n",
      "Time step 3, Epoch 300: Loss 0.0115\n",
      "Time step 3, Epoch 310: Loss 0.0099\n",
      "Time step 3, Epoch 320: Loss 0.0094\n",
      "Time step 3, Epoch 330: Loss 0.0098\n",
      "Time step 3, Epoch 340: Loss 0.0077\n",
      "Time step 3, Epoch 350: Loss 0.0086\n",
      "Time step 3, Epoch 360: Loss 0.0110\n",
      "Time step 3, Epoch 370: Loss 0.0078\n",
      "Time step 3, Epoch 380: Loss 0.0101\n",
      "Time step 3, Epoch 390: Loss 0.0069\n"
     ]
    },
    {
     "name": "stderr",
     "output_type": "stream",
     "text": [
      "GCN Embeddings:   6%|███▍                                                     | 3/49 [00:34<08:43, 11.37s/it]/Users/nick/AML/src/features/network_features.py:196: UserWarning: To copy construct from a tensor, it is recommended to use sourceTensor.detach().clone() or sourceTensor.detach().clone().requires_grad_(True), rather than torch.tensor(sourceTensor).\n",
      "  train_mask = torch.tensor(train_mask, dtype=torch.bool)\n"
     ]
    },
    {
     "name": "stdout",
     "output_type": "stream",
     "text": [
      "Time step 4, Epoch 0: Loss 5.3086\n",
      "Time step 4, Epoch 10: Loss 1.4697\n",
      "Time step 4, Epoch 20: Loss 0.5077\n",
      "Time step 4, Epoch 30: Loss 0.2899\n",
      "Time step 4, Epoch 40: Loss 0.1904\n",
      "Time step 4, Epoch 50: Loss 0.1490\n",
      "Time step 4, Epoch 60: Loss 0.1221\n",
      "Time step 4, Epoch 70: Loss 0.1006\n",
      "Time step 4, Epoch 80: Loss 0.0909\n",
      "Time step 4, Epoch 90: Loss 0.0816\n",
      "Time step 4, Epoch 100: Loss 0.0766\n",
      "Time step 4, Epoch 110: Loss 0.0677\n",
      "Time step 4, Epoch 120: Loss 0.0592\n",
      "Time step 4, Epoch 130: Loss 0.0555\n",
      "Time step 4, Epoch 140: Loss 0.0473\n",
      "Time step 4, Epoch 150: Loss 0.0441\n",
      "Time step 4, Epoch 160: Loss 0.0416\n",
      "Time step 4, Epoch 170: Loss 0.0427\n",
      "Time step 4, Epoch 180: Loss 0.0339\n",
      "Time step 4, Epoch 190: Loss 0.0296\n",
      "Time step 4, Epoch 200: Loss 0.0294\n",
      "Time step 4, Epoch 210: Loss 0.0242\n",
      "Time step 4, Epoch 220: Loss 0.0261\n",
      "Time step 4, Epoch 230: Loss 0.0264\n",
      "Time step 4, Epoch 240: Loss 0.0215\n",
      "Time step 4, Epoch 250: Loss 0.0200\n",
      "Time step 4, Epoch 260: Loss 0.0217\n",
      "Time step 4, Epoch 270: Loss 0.0160\n",
      "Time step 4, Epoch 280: Loss 0.0153\n",
      "Time step 4, Epoch 290: Loss 0.0140\n",
      "Time step 4, Epoch 300: Loss 0.0152\n",
      "Time step 4, Epoch 310: Loss 0.0169\n",
      "Time step 4, Epoch 320: Loss 0.0134\n",
      "Time step 4, Epoch 330: Loss 0.0135\n",
      "Time step 4, Epoch 340: Loss 0.0103\n",
      "Time step 4, Epoch 350: Loss 0.0118\n",
      "Time step 4, Epoch 360: Loss 0.0137\n",
      "Time step 4, Epoch 370: Loss 0.0126\n",
      "Time step 4, Epoch 380: Loss 0.0107\n",
      "Time step 4, Epoch 390: Loss 0.0126\n"
     ]
    },
    {
     "name": "stderr",
     "output_type": "stream",
     "text": [
      "GCN Embeddings:   8%|████▋                                                    | 4/49 [00:46<08:42, 11.61s/it]/Users/nick/AML/src/features/network_features.py:196: UserWarning: To copy construct from a tensor, it is recommended to use sourceTensor.detach().clone() or sourceTensor.detach().clone().requires_grad_(True), rather than torch.tensor(sourceTensor).\n",
      "  train_mask = torch.tensor(train_mask, dtype=torch.bool)\n"
     ]
    },
    {
     "name": "stdout",
     "output_type": "stream",
     "text": [
      "Time step 5, Epoch 0: Loss 4.9843\n",
      "Time step 5, Epoch 10: Loss 1.4938\n",
      "Time step 5, Epoch 20: Loss 0.4786\n",
      "Time step 5, Epoch 30: Loss 0.1938\n",
      "Time step 5, Epoch 40: Loss 0.1070\n",
      "Time step 5, Epoch 50: Loss 0.0706\n",
      "Time step 5, Epoch 60: Loss 0.0512\n",
      "Time step 5, Epoch 70: Loss 0.0422\n",
      "Time step 5, Epoch 80: Loss 0.0353\n",
      "Time step 5, Epoch 90: Loss 0.0315\n",
      "Time step 5, Epoch 100: Loss 0.0297\n",
      "Time step 5, Epoch 110: Loss 0.0219\n",
      "Time step 5, Epoch 120: Loss 0.0223\n",
      "Time step 5, Epoch 130: Loss 0.0210\n",
      "Time step 5, Epoch 140: Loss 0.0204\n",
      "Time step 5, Epoch 150: Loss 0.0161\n",
      "Time step 5, Epoch 160: Loss 0.0139\n",
      "Time step 5, Epoch 170: Loss 0.0137\n",
      "Time step 5, Epoch 180: Loss 0.0136\n",
      "Time step 5, Epoch 190: Loss 0.0138\n",
      "Time step 5, Epoch 200: Loss 0.0128\n",
      "Time step 5, Epoch 210: Loss 0.0105\n",
      "Time step 5, Epoch 220: Loss 0.0107\n",
      "Time step 5, Epoch 230: Loss 0.0115\n",
      "Time step 5, Epoch 240: Loss 0.0093\n",
      "Time step 5, Epoch 250: Loss 0.0084\n",
      "Time step 5, Epoch 260: Loss 0.0092\n",
      "Time step 5, Epoch 270: Loss 0.0086\n",
      "Time step 5, Epoch 280: Loss 0.0083\n",
      "Time step 5, Epoch 290: Loss 0.0077\n",
      "Time step 5, Epoch 300: Loss 0.0076\n",
      "Time step 5, Epoch 310: Loss 0.0070\n",
      "Time step 5, Epoch 320: Loss 0.0062\n",
      "Time step 5, Epoch 330: Loss 0.0054\n",
      "Time step 5, Epoch 340: Loss 0.0057\n",
      "Time step 5, Epoch 350: Loss 0.0056\n",
      "Time step 5, Epoch 360: Loss 0.0055\n",
      "Time step 5, Epoch 370: Loss 0.0051\n",
      "Time step 5, Epoch 380: Loss 0.0054\n",
      "Time step 5, Epoch 390: Loss 0.0050\n"
     ]
    },
    {
     "name": "stderr",
     "output_type": "stream",
     "text": [
      "GCN Embeddings:  10%|█████▊                                                   | 5/49 [00:58<08:36, 11.74s/it]/Users/nick/AML/src/features/network_features.py:196: UserWarning: To copy construct from a tensor, it is recommended to use sourceTensor.detach().clone() or sourceTensor.detach().clone().requires_grad_(True), rather than torch.tensor(sourceTensor).\n",
      "  train_mask = torch.tensor(train_mask, dtype=torch.bool)\n"
     ]
    },
    {
     "name": "stdout",
     "output_type": "stream",
     "text": [
      "Time step 6, Epoch 0: Loss 5.1712\n",
      "Time step 6, Epoch 10: Loss 1.6466\n",
      "Time step 6, Epoch 20: Loss 0.4934\n",
      "Time step 6, Epoch 30: Loss 0.2266\n",
      "Time step 6, Epoch 40: Loss 0.1310\n",
      "Time step 6, Epoch 50: Loss 0.0935\n",
      "Time step 6, Epoch 60: Loss 0.0656\n",
      "Time step 6, Epoch 70: Loss 0.0533\n",
      "Time step 6, Epoch 80: Loss 0.0432\n",
      "Time step 6, Epoch 90: Loss 0.0290\n",
      "Time step 6, Epoch 100: Loss 0.0341\n",
      "Time step 6, Epoch 110: Loss 0.0226\n",
      "Time step 6, Epoch 120: Loss 0.0186\n",
      "Time step 6, Epoch 130: Loss 0.0152\n",
      "Time step 6, Epoch 140: Loss 0.0144\n",
      "Time step 6, Epoch 150: Loss 0.0186\n",
      "Time step 6, Epoch 160: Loss 0.0089\n",
      "Time step 6, Epoch 170: Loss 0.0124\n",
      "Time step 6, Epoch 180: Loss 0.0091\n",
      "Time step 6, Epoch 190: Loss 0.0104\n",
      "Time step 6, Epoch 200: Loss 0.0081\n",
      "Time step 6, Epoch 210: Loss 0.0063\n",
      "Time step 6, Epoch 220: Loss 0.0071\n",
      "Time step 6, Epoch 230: Loss 0.0074\n",
      "Time step 6, Epoch 240: Loss 0.0048\n",
      "Time step 6, Epoch 250: Loss 0.0058\n",
      "Time step 6, Epoch 260: Loss 0.0045\n",
      "Time step 6, Epoch 270: Loss 0.0051\n",
      "Time step 6, Epoch 280: Loss 0.0041\n",
      "Time step 6, Epoch 290: Loss 0.0054\n",
      "Time step 6, Epoch 300: Loss 0.0045\n",
      "Time step 6, Epoch 310: Loss 0.0044\n",
      "Time step 6, Epoch 320: Loss 0.0050\n",
      "Time step 6, Epoch 330: Loss 0.0031\n",
      "Time step 6, Epoch 340: Loss 0.0030\n",
      "Time step 6, Epoch 350: Loss 0.0043\n",
      "Time step 6, Epoch 360: Loss 0.0039\n",
      "Time step 6, Epoch 370: Loss 0.0021\n",
      "Time step 6, Epoch 380: Loss 0.0023\n",
      "Time step 6, Epoch 390: Loss 0.0030\n"
     ]
    },
    {
     "name": "stderr",
     "output_type": "stream",
     "text": [
      "GCN Embeddings:  12%|██████▉                                                  | 6/49 [01:07<07:48, 10.89s/it]/Users/nick/AML/src/features/network_features.py:196: UserWarning: To copy construct from a tensor, it is recommended to use sourceTensor.detach().clone() or sourceTensor.detach().clone().requires_grad_(True), rather than torch.tensor(sourceTensor).\n",
      "  train_mask = torch.tensor(train_mask, dtype=torch.bool)\n"
     ]
    },
    {
     "name": "stdout",
     "output_type": "stream",
     "text": [
      "Time step 7, Epoch 0: Loss 6.2287\n",
      "Time step 7, Epoch 10: Loss 2.0094\n",
      "Time step 7, Epoch 20: Loss 0.9872\n",
      "Time step 7, Epoch 30: Loss 0.5741\n",
      "Time step 7, Epoch 40: Loss 0.3676\n",
      "Time step 7, Epoch 50: Loss 0.2636\n",
      "Time step 7, Epoch 60: Loss 0.2071\n",
      "Time step 7, Epoch 70: Loss 0.1672\n",
      "Time step 7, Epoch 80: Loss 0.1510\n",
      "Time step 7, Epoch 90: Loss 0.1220\n",
      "Time step 7, Epoch 100: Loss 0.1190\n",
      "Time step 7, Epoch 110: Loss 0.1061\n",
      "Time step 7, Epoch 120: Loss 0.1050\n",
      "Time step 7, Epoch 130: Loss 0.1013\n",
      "Time step 7, Epoch 140: Loss 0.0854\n",
      "Time step 7, Epoch 150: Loss 0.0858\n",
      "Time step 7, Epoch 160: Loss 0.0809\n",
      "Time step 7, Epoch 170: Loss 0.0728\n",
      "Time step 7, Epoch 180: Loss 0.0784\n",
      "Time step 7, Epoch 190: Loss 0.0673\n",
      "Time step 7, Epoch 200: Loss 0.0689\n",
      "Time step 7, Epoch 210: Loss 0.0634\n",
      "Time step 7, Epoch 220: Loss 0.0586\n",
      "Time step 7, Epoch 230: Loss 0.0582\n",
      "Time step 7, Epoch 240: Loss 0.0530\n",
      "Time step 7, Epoch 250: Loss 0.0494\n",
      "Time step 7, Epoch 260: Loss 0.0497\n",
      "Time step 7, Epoch 270: Loss 0.0515\n",
      "Time step 7, Epoch 280: Loss 0.0504\n",
      "Time step 7, Epoch 290: Loss 0.0435\n",
      "Time step 7, Epoch 300: Loss 0.0451\n",
      "Time step 7, Epoch 310: Loss 0.0454\n",
      "Time step 7, Epoch 320: Loss 0.0370\n",
      "Time step 7, Epoch 330: Loss 0.0407\n",
      "Time step 7, Epoch 340: Loss 0.0417\n",
      "Time step 7, Epoch 350: Loss 0.0414\n",
      "Time step 7, Epoch 360: Loss 0.0359\n",
      "Time step 7, Epoch 370: Loss 0.0409\n",
      "Time step 7, Epoch 380: Loss 0.0339\n",
      "Time step 7, Epoch 390: Loss 0.0390\n"
     ]
    },
    {
     "name": "stderr",
     "output_type": "stream",
     "text": [
      "GCN Embeddings:  14%|████████▏                                                | 7/49 [01:19<07:47, 11.14s/it]/Users/nick/AML/src/features/network_features.py:196: UserWarning: To copy construct from a tensor, it is recommended to use sourceTensor.detach().clone() or sourceTensor.detach().clone().requires_grad_(True), rather than torch.tensor(sourceTensor).\n",
      "  train_mask = torch.tensor(train_mask, dtype=torch.bool)\n"
     ]
    },
    {
     "name": "stdout",
     "output_type": "stream",
     "text": [
      "Time step 8, Epoch 0: Loss 5.7255\n",
      "Time step 8, Epoch 10: Loss 1.8585\n",
      "Time step 8, Epoch 20: Loss 0.6568\n",
      "Time step 8, Epoch 30: Loss 0.3420\n",
      "Time step 8, Epoch 40: Loss 0.2224\n",
      "Time step 8, Epoch 50: Loss 0.1753\n",
      "Time step 8, Epoch 60: Loss 0.1440\n",
      "Time step 8, Epoch 70: Loss 0.1225\n",
      "Time step 8, Epoch 80: Loss 0.1182\n",
      "Time step 8, Epoch 90: Loss 0.1078\n",
      "Time step 8, Epoch 100: Loss 0.1017\n",
      "Time step 8, Epoch 110: Loss 0.0869\n",
      "Time step 8, Epoch 120: Loss 0.0820\n",
      "Time step 8, Epoch 130: Loss 0.0802\n",
      "Time step 8, Epoch 140: Loss 0.0687\n",
      "Time step 8, Epoch 150: Loss 0.0603\n",
      "Time step 8, Epoch 160: Loss 0.0677\n",
      "Time step 8, Epoch 170: Loss 0.0651\n",
      "Time step 8, Epoch 180: Loss 0.0547\n",
      "Time step 8, Epoch 190: Loss 0.0527\n",
      "Time step 8, Epoch 200: Loss 0.0524\n",
      "Time step 8, Epoch 210: Loss 0.0500\n",
      "Time step 8, Epoch 220: Loss 0.0508\n",
      "Time step 8, Epoch 230: Loss 0.0453\n",
      "Time step 8, Epoch 240: Loss 0.0412\n",
      "Time step 8, Epoch 250: Loss 0.0404\n",
      "Time step 8, Epoch 260: Loss 0.0438\n",
      "Time step 8, Epoch 270: Loss 0.0321\n",
      "Time step 8, Epoch 280: Loss 0.0287\n",
      "Time step 8, Epoch 290: Loss 0.0402\n",
      "Time step 8, Epoch 300: Loss 0.0306\n",
      "Time step 8, Epoch 310: Loss 0.0318\n",
      "Time step 8, Epoch 320: Loss 0.0280\n",
      "Time step 8, Epoch 330: Loss 0.0266\n",
      "Time step 8, Epoch 340: Loss 0.0279\n",
      "Time step 8, Epoch 350: Loss 0.0253\n",
      "Time step 8, Epoch 360: Loss 0.0251\n",
      "Time step 8, Epoch 370: Loss 0.0233\n",
      "Time step 8, Epoch 380: Loss 0.0232\n",
      "Time step 8, Epoch 390: Loss 0.0287\n"
     ]
    },
    {
     "name": "stderr",
     "output_type": "stream",
     "text": [
      "GCN Embeddings:  16%|█████████▎                                               | 8/49 [01:27<07:00, 10.26s/it]/Users/nick/AML/src/features/network_features.py:196: UserWarning: To copy construct from a tensor, it is recommended to use sourceTensor.detach().clone() or sourceTensor.detach().clone().requires_grad_(True), rather than torch.tensor(sourceTensor).\n",
      "  train_mask = torch.tensor(train_mask, dtype=torch.bool)\n"
     ]
    },
    {
     "name": "stdout",
     "output_type": "stream",
     "text": [
      "Time step 9, Epoch 0: Loss 5.0658\n",
      "Time step 9, Epoch 10: Loss 2.7540\n",
      "Time step 9, Epoch 20: Loss 1.3310\n",
      "Time step 9, Epoch 30: Loss 0.7086\n",
      "Time step 9, Epoch 40: Loss 0.5038\n",
      "Time step 9, Epoch 50: Loss 0.4193\n",
      "Time step 9, Epoch 60: Loss 0.3818\n",
      "Time step 9, Epoch 70: Loss 0.3441\n",
      "Time step 9, Epoch 80: Loss 0.3147\n",
      "Time step 9, Epoch 90: Loss 0.2851\n",
      "Time step 9, Epoch 100: Loss 0.2747\n",
      "Time step 9, Epoch 110: Loss 0.2603\n",
      "Time step 9, Epoch 120: Loss 0.2392\n",
      "Time step 9, Epoch 130: Loss 0.2249\n",
      "Time step 9, Epoch 140: Loss 0.2242\n",
      "Time step 9, Epoch 150: Loss 0.2123\n",
      "Time step 9, Epoch 160: Loss 0.2010\n",
      "Time step 9, Epoch 170: Loss 0.1906\n",
      "Time step 9, Epoch 180: Loss 0.1824\n",
      "Time step 9, Epoch 190: Loss 0.1712\n",
      "Time step 9, Epoch 200: Loss 0.1564\n",
      "Time step 9, Epoch 210: Loss 0.1547\n",
      "Time step 9, Epoch 220: Loss 0.1622\n",
      "Time step 9, Epoch 230: Loss 0.1483\n",
      "Time step 9, Epoch 240: Loss 0.1384\n",
      "Time step 9, Epoch 250: Loss 0.1320\n",
      "Time step 9, Epoch 260: Loss 0.1255\n",
      "Time step 9, Epoch 270: Loss 0.1283\n",
      "Time step 9, Epoch 280: Loss 0.1268\n",
      "Time step 9, Epoch 290: Loss 0.1229\n",
      "Time step 9, Epoch 300: Loss 0.1124\n",
      "Time step 9, Epoch 310: Loss 0.1185\n",
      "Time step 9, Epoch 320: Loss 0.1069\n",
      "Time step 9, Epoch 330: Loss 0.1088\n",
      "Time step 9, Epoch 340: Loss 0.1062\n",
      "Time step 9, Epoch 350: Loss 0.1068\n",
      "Time step 9, Epoch 360: Loss 0.0931\n",
      "Time step 9, Epoch 370: Loss 0.1005\n",
      "Time step 9, Epoch 380: Loss 0.0992\n",
      "Time step 9, Epoch 390: Loss 0.0974\n"
     ]
    },
    {
     "name": "stderr",
     "output_type": "stream",
     "text": [
      "GCN Embeddings:  18%|██████████▍                                              | 9/49 [01:36<06:29,  9.74s/it]/Users/nick/AML/src/features/network_features.py:196: UserWarning: To copy construct from a tensor, it is recommended to use sourceTensor.detach().clone() or sourceTensor.detach().clone().requires_grad_(True), rather than torch.tensor(sourceTensor).\n",
      "  train_mask = torch.tensor(train_mask, dtype=torch.bool)\n"
     ]
    },
    {
     "name": "stdout",
     "output_type": "stream",
     "text": [
      "Time step 10, Epoch 0: Loss 6.5830\n",
      "Time step 10, Epoch 10: Loss 2.0286\n",
      "Time step 10, Epoch 20: Loss 0.9016\n",
      "Time step 10, Epoch 30: Loss 0.4811\n",
      "Time step 10, Epoch 40: Loss 0.2789\n",
      "Time step 10, Epoch 50: Loss 0.1845\n",
      "Time step 10, Epoch 60: Loss 0.1323\n",
      "Time step 10, Epoch 70: Loss 0.0966\n",
      "Time step 10, Epoch 80: Loss 0.0828\n",
      "Time step 10, Epoch 90: Loss 0.0725\n",
      "Time step 10, Epoch 100: Loss 0.0676\n",
      "Time step 10, Epoch 110: Loss 0.0564\n",
      "Time step 10, Epoch 120: Loss 0.0483\n",
      "Time step 10, Epoch 130: Loss 0.0472\n",
      "Time step 10, Epoch 140: Loss 0.0401\n",
      "Time step 10, Epoch 150: Loss 0.0399\n",
      "Time step 10, Epoch 160: Loss 0.0369\n",
      "Time step 10, Epoch 170: Loss 0.0346\n",
      "Time step 10, Epoch 180: Loss 0.0394\n",
      "Time step 10, Epoch 190: Loss 0.0346\n",
      "Time step 10, Epoch 200: Loss 0.0348\n",
      "Time step 10, Epoch 210: Loss 0.0341\n",
      "Time step 10, Epoch 220: Loss 0.0344\n",
      "Time step 10, Epoch 230: Loss 0.0265\n",
      "Time step 10, Epoch 240: Loss 0.0306\n",
      "Time step 10, Epoch 250: Loss 0.0286\n",
      "Time step 10, Epoch 260: Loss 0.0285\n",
      "Time step 10, Epoch 270: Loss 0.0287\n",
      "Time step 10, Epoch 280: Loss 0.0270\n",
      "Time step 10, Epoch 290: Loss 0.0253\n",
      "Time step 10, Epoch 300: Loss 0.0238\n",
      "Time step 10, Epoch 310: Loss 0.0270\n",
      "Time step 10, Epoch 320: Loss 0.0249\n",
      "Time step 10, Epoch 330: Loss 0.0236\n",
      "Time step 10, Epoch 340: Loss 0.0249\n",
      "Time step 10, Epoch 350: Loss 0.0243\n",
      "Time step 10, Epoch 360: Loss 0.0210\n",
      "Time step 10, Epoch 370: Loss 0.0198\n",
      "Time step 10, Epoch 380: Loss 0.0237\n"
     ]
    },
    {
     "name": "stderr",
     "output_type": "stream",
     "text": [
      "GCN Embeddings:  20%|███████████▍                                            | 10/49 [01:45<06:11,  9.52s/it]"
     ]
    },
    {
     "name": "stdout",
     "output_type": "stream",
     "text": [
      "Time step 10, Epoch 390: Loss 0.0235\n"
     ]
    },
    {
     "name": "stderr",
     "output_type": "stream",
     "text": [
      "/Users/nick/AML/src/features/network_features.py:196: UserWarning: To copy construct from a tensor, it is recommended to use sourceTensor.detach().clone() or sourceTensor.detach().clone().requires_grad_(True), rather than torch.tensor(sourceTensor).\n",
      "  train_mask = torch.tensor(train_mask, dtype=torch.bool)\n"
     ]
    },
    {
     "name": "stdout",
     "output_type": "stream",
     "text": [
      "Time step 11, Epoch 0: Loss 4.6366\n",
      "Time step 11, Epoch 10: Loss 2.1660\n",
      "Time step 11, Epoch 20: Loss 1.0983\n",
      "Time step 11, Epoch 30: Loss 0.5898\n",
      "Time step 11, Epoch 40: Loss 0.3663\n",
      "Time step 11, Epoch 50: Loss 0.2787\n",
      "Time step 11, Epoch 60: Loss 0.2562\n",
      "Time step 11, Epoch 70: Loss 0.2228\n",
      "Time step 11, Epoch 80: Loss 0.2143\n",
      "Time step 11, Epoch 90: Loss 0.1922\n",
      "Time step 11, Epoch 100: Loss 0.1741\n",
      "Time step 11, Epoch 110: Loss 0.1670\n",
      "Time step 11, Epoch 120: Loss 0.1660\n",
      "Time step 11, Epoch 130: Loss 0.1553\n",
      "Time step 11, Epoch 140: Loss 0.1380\n",
      "Time step 11, Epoch 150: Loss 0.1397\n",
      "Time step 11, Epoch 160: Loss 0.1291\n",
      "Time step 11, Epoch 170: Loss 0.1191\n",
      "Time step 11, Epoch 180: Loss 0.1147\n",
      "Time step 11, Epoch 190: Loss 0.1121\n",
      "Time step 11, Epoch 200: Loss 0.1194\n",
      "Time step 11, Epoch 210: Loss 0.1156\n",
      "Time step 11, Epoch 220: Loss 0.0949\n",
      "Time step 11, Epoch 230: Loss 0.1016\n",
      "Time step 11, Epoch 240: Loss 0.0921\n",
      "Time step 11, Epoch 250: Loss 0.0897\n",
      "Time step 11, Epoch 260: Loss 0.0901\n",
      "Time step 11, Epoch 270: Loss 0.0782\n",
      "Time step 11, Epoch 280: Loss 0.0831\n",
      "Time step 11, Epoch 290: Loss 0.0705\n",
      "Time step 11, Epoch 300: Loss 0.0734\n",
      "Time step 11, Epoch 310: Loss 0.0665\n",
      "Time step 11, Epoch 320: Loss 0.0648\n",
      "Time step 11, Epoch 330: Loss 0.0687\n",
      "Time step 11, Epoch 340: Loss 0.0593\n",
      "Time step 11, Epoch 350: Loss 0.0585\n",
      "Time step 11, Epoch 360: Loss 0.0600\n",
      "Time step 11, Epoch 370: Loss 0.0561\n",
      "Time step 11, Epoch 380: Loss 0.0575\n"
     ]
    },
    {
     "name": "stderr",
     "output_type": "stream",
     "text": [
      "GCN Embeddings:  22%|████████████▌                                           | 11/49 [01:53<05:47,  9.15s/it]"
     ]
    },
    {
     "name": "stdout",
     "output_type": "stream",
     "text": [
      "Time step 11, Epoch 390: Loss 0.0426\n"
     ]
    },
    {
     "name": "stderr",
     "output_type": "stream",
     "text": [
      "/Users/nick/AML/src/features/network_features.py:196: UserWarning: To copy construct from a tensor, it is recommended to use sourceTensor.detach().clone() or sourceTensor.detach().clone().requires_grad_(True), rather than torch.tensor(sourceTensor).\n",
      "  train_mask = torch.tensor(train_mask, dtype=torch.bool)\n"
     ]
    },
    {
     "name": "stdout",
     "output_type": "stream",
     "text": [
      "Time step 12, Epoch 0: Loss 8.4629\n",
      "Time step 12, Epoch 10: Loss 2.5184\n",
      "Time step 12, Epoch 20: Loss 1.0588\n",
      "Time step 12, Epoch 30: Loss 0.7086\n",
      "Time step 12, Epoch 40: Loss 0.4687\n",
      "Time step 12, Epoch 50: Loss 0.3132\n",
      "Time step 12, Epoch 60: Loss 0.2400\n",
      "Time step 12, Epoch 70: Loss 0.1967\n",
      "Time step 12, Epoch 80: Loss 0.1576\n",
      "Time step 12, Epoch 90: Loss 0.1386\n",
      "Time step 12, Epoch 100: Loss 0.1076\n",
      "Time step 12, Epoch 110: Loss 0.0985\n",
      "Time step 12, Epoch 120: Loss 0.0917\n",
      "Time step 12, Epoch 130: Loss 0.0808\n",
      "Time step 12, Epoch 140: Loss 0.0646\n",
      "Time step 12, Epoch 150: Loss 0.0642\n",
      "Time step 12, Epoch 160: Loss 0.0519\n",
      "Time step 12, Epoch 170: Loss 0.0522\n",
      "Time step 12, Epoch 180: Loss 0.0513\n",
      "Time step 12, Epoch 190: Loss 0.0436\n",
      "Time step 12, Epoch 200: Loss 0.0377\n",
      "Time step 12, Epoch 210: Loss 0.0378\n",
      "Time step 12, Epoch 220: Loss 0.0409\n",
      "Time step 12, Epoch 230: Loss 0.0297\n",
      "Time step 12, Epoch 240: Loss 0.0319\n",
      "Time step 12, Epoch 250: Loss 0.0280\n",
      "Time step 12, Epoch 260: Loss 0.0224\n",
      "Time step 12, Epoch 270: Loss 0.0240\n",
      "Time step 12, Epoch 280: Loss 0.0199\n",
      "Time step 12, Epoch 290: Loss 0.0199\n",
      "Time step 12, Epoch 300: Loss 0.0189\n",
      "Time step 12, Epoch 310: Loss 0.0220\n",
      "Time step 12, Epoch 320: Loss 0.0179\n",
      "Time step 12, Epoch 330: Loss 0.0146\n",
      "Time step 12, Epoch 340: Loss 0.0154\n",
      "Time step 12, Epoch 350: Loss 0.0146\n",
      "Time step 12, Epoch 360: Loss 0.0141\n",
      "Time step 12, Epoch 370: Loss 0.0124\n"
     ]
    },
    {
     "name": "stderr",
     "output_type": "stream",
     "text": [
      "GCN Embeddings:  24%|█████████████▋                                          | 12/49 [01:58<04:48,  7.80s/it]"
     ]
    },
    {
     "name": "stdout",
     "output_type": "stream",
     "text": [
      "Time step 12, Epoch 380: Loss 0.0129\n",
      "Time step 12, Epoch 390: Loss 0.0140\n"
     ]
    },
    {
     "name": "stderr",
     "output_type": "stream",
     "text": [
      "/Users/nick/AML/src/features/network_features.py:196: UserWarning: To copy construct from a tensor, it is recommended to use sourceTensor.detach().clone() or sourceTensor.detach().clone().requires_grad_(True), rather than torch.tensor(sourceTensor).\n",
      "  train_mask = torch.tensor(train_mask, dtype=torch.bool)\n"
     ]
    },
    {
     "name": "stdout",
     "output_type": "stream",
     "text": [
      "Time step 13, Epoch 0: Loss 5.2231\n",
      "Time step 13, Epoch 10: Loss 2.9360\n",
      "Time step 13, Epoch 20: Loss 1.6656\n",
      "Time step 13, Epoch 30: Loss 0.9589\n",
      "Time step 13, Epoch 40: Loss 0.5939\n",
      "Time step 13, Epoch 50: Loss 0.4247\n",
      "Time step 13, Epoch 60: Loss 0.3580\n",
      "Time step 13, Epoch 70: Loss 0.2840\n",
      "Time step 13, Epoch 80: Loss 0.2591\n",
      "Time step 13, Epoch 90: Loss 0.2340\n",
      "Time step 13, Epoch 100: Loss 0.2226\n",
      "Time step 13, Epoch 110: Loss 0.2033\n",
      "Time step 13, Epoch 120: Loss 0.1908\n",
      "Time step 13, Epoch 130: Loss 0.1746\n",
      "Time step 13, Epoch 140: Loss 0.1734\n",
      "Time step 13, Epoch 150: Loss 0.1614\n",
      "Time step 13, Epoch 160: Loss 0.1588\n",
      "Time step 13, Epoch 170: Loss 0.1590\n",
      "Time step 13, Epoch 180: Loss 0.1482\n",
      "Time step 13, Epoch 190: Loss 0.1271\n",
      "Time step 13, Epoch 200: Loss 0.1235\n",
      "Time step 13, Epoch 210: Loss 0.1284\n",
      "Time step 13, Epoch 220: Loss 0.1316\n",
      "Time step 13, Epoch 230: Loss 0.1140\n",
      "Time step 13, Epoch 240: Loss 0.1150\n",
      "Time step 13, Epoch 250: Loss 0.1086\n",
      "Time step 13, Epoch 260: Loss 0.1091\n",
      "Time step 13, Epoch 270: Loss 0.0980\n",
      "Time step 13, Epoch 280: Loss 0.0971\n",
      "Time step 13, Epoch 290: Loss 0.0992\n",
      "Time step 13, Epoch 300: Loss 0.0933\n",
      "Time step 13, Epoch 310: Loss 0.0923\n",
      "Time step 13, Epoch 320: Loss 0.0833\n",
      "Time step 13, Epoch 330: Loss 0.0787\n",
      "Time step 13, Epoch 340: Loss 0.0817\n",
      "Time step 13, Epoch 350: Loss 0.0827\n",
      "Time step 13, Epoch 360: Loss 0.0685\n",
      "Time step 13, Epoch 370: Loss 0.0685\n",
      "Time step 13, Epoch 380: Loss 0.0716\n"
     ]
    },
    {
     "name": "stderr",
     "output_type": "stream",
     "text": [
      "GCN Embeddings:  27%|██████████████▊                                         | 13/49 [02:06<04:42,  7.86s/it]"
     ]
    },
    {
     "name": "stdout",
     "output_type": "stream",
     "text": [
      "Time step 13, Epoch 390: Loss 0.0691\n"
     ]
    },
    {
     "name": "stderr",
     "output_type": "stream",
     "text": [
      "/Users/nick/AML/src/features/network_features.py:196: UserWarning: To copy construct from a tensor, it is recommended to use sourceTensor.detach().clone() or sourceTensor.detach().clone().requires_grad_(True), rather than torch.tensor(sourceTensor).\n",
      "  train_mask = torch.tensor(train_mask, dtype=torch.bool)\n"
     ]
    },
    {
     "name": "stdout",
     "output_type": "stream",
     "text": [
      "Time step 14, Epoch 0: Loss 4.2077\n",
      "Time step 14, Epoch 10: Loss 1.7641\n",
      "Time step 14, Epoch 20: Loss 0.9508\n",
      "Time step 14, Epoch 30: Loss 0.5702\n",
      "Time step 14, Epoch 40: Loss 0.3547\n",
      "Time step 14, Epoch 50: Loss 0.2394\n",
      "Time step 14, Epoch 60: Loss 0.1849\n",
      "Time step 14, Epoch 70: Loss 0.1257\n",
      "Time step 14, Epoch 80: Loss 0.1287\n",
      "Time step 14, Epoch 90: Loss 0.1037\n",
      "Time step 14, Epoch 100: Loss 0.1020\n",
      "Time step 14, Epoch 110: Loss 0.0770\n",
      "Time step 14, Epoch 120: Loss 0.0684\n",
      "Time step 14, Epoch 130: Loss 0.0582\n",
      "Time step 14, Epoch 140: Loss 0.0691\n",
      "Time step 14, Epoch 150: Loss 0.0481\n",
      "Time step 14, Epoch 160: Loss 0.0555\n",
      "Time step 14, Epoch 170: Loss 0.0564\n",
      "Time step 14, Epoch 180: Loss 0.0591\n",
      "Time step 14, Epoch 190: Loss 0.0390\n",
      "Time step 14, Epoch 200: Loss 0.0398\n",
      "Time step 14, Epoch 210: Loss 0.0357\n",
      "Time step 14, Epoch 220: Loss 0.0352\n",
      "Time step 14, Epoch 230: Loss 0.0251\n",
      "Time step 14, Epoch 240: Loss 0.0336\n",
      "Time step 14, Epoch 250: Loss 0.0313\n",
      "Time step 14, Epoch 260: Loss 0.0241\n",
      "Time step 14, Epoch 270: Loss 0.0236\n",
      "Time step 14, Epoch 280: Loss 0.0198\n",
      "Time step 14, Epoch 290: Loss 0.0221\n",
      "Time step 14, Epoch 300: Loss 0.0241\n",
      "Time step 14, Epoch 310: Loss 0.0178\n",
      "Time step 14, Epoch 320: Loss 0.0165\n",
      "Time step 14, Epoch 330: Loss 0.0180\n",
      "Time step 14, Epoch 340: Loss 0.0177\n",
      "Time step 14, Epoch 350: Loss 0.0156\n",
      "Time step 14, Epoch 360: Loss 0.0188\n",
      "Time step 14, Epoch 370: Loss 0.0164\n",
      "Time step 14, Epoch 380: Loss 0.0153\n"
     ]
    },
    {
     "name": "stderr",
     "output_type": "stream",
     "text": [
      "GCN Embeddings:  29%|████████████████                                        | 14/49 [02:11<04:06,  7.04s/it]"
     ]
    },
    {
     "name": "stdout",
     "output_type": "stream",
     "text": [
      "Time step 14, Epoch 390: Loss 0.0185\n"
     ]
    },
    {
     "name": "stderr",
     "output_type": "stream",
     "text": [
      "/Users/nick/AML/src/features/network_features.py:196: UserWarning: To copy construct from a tensor, it is recommended to use sourceTensor.detach().clone() or sourceTensor.detach().clone().requires_grad_(True), rather than torch.tensor(sourceTensor).\n",
      "  train_mask = torch.tensor(train_mask, dtype=torch.bool)\n"
     ]
    },
    {
     "name": "stdout",
     "output_type": "stream",
     "text": [
      "Time step 15, Epoch 0: Loss 4.9987\n",
      "Time step 15, Epoch 10: Loss 2.4302\n",
      "Time step 15, Epoch 20: Loss 1.3228\n",
      "Time step 15, Epoch 30: Loss 0.7669\n",
      "Time step 15, Epoch 40: Loss 0.4504\n",
      "Time step 15, Epoch 50: Loss 0.3079\n",
      "Time step 15, Epoch 60: Loss 0.2429\n",
      "Time step 15, Epoch 70: Loss 0.2151\n",
      "Time step 15, Epoch 80: Loss 0.1930\n",
      "Time step 15, Epoch 90: Loss 0.1814\n",
      "Time step 15, Epoch 100: Loss 0.1658\n",
      "Time step 15, Epoch 110: Loss 0.1497\n",
      "Time step 15, Epoch 120: Loss 0.1162\n",
      "Time step 15, Epoch 130: Loss 0.1232\n",
      "Time step 15, Epoch 140: Loss 0.1186\n",
      "Time step 15, Epoch 150: Loss 0.1067\n",
      "Time step 15, Epoch 160: Loss 0.1052\n",
      "Time step 15, Epoch 170: Loss 0.0942\n",
      "Time step 15, Epoch 180: Loss 0.0882\n",
      "Time step 15, Epoch 190: Loss 0.0860\n",
      "Time step 15, Epoch 200: Loss 0.0829\n",
      "Time step 15, Epoch 210: Loss 0.0779\n",
      "Time step 15, Epoch 220: Loss 0.0739\n",
      "Time step 15, Epoch 230: Loss 0.0742\n",
      "Time step 15, Epoch 240: Loss 0.0646\n",
      "Time step 15, Epoch 250: Loss 0.0635\n",
      "Time step 15, Epoch 260: Loss 0.0566\n",
      "Time step 15, Epoch 270: Loss 0.0572\n",
      "Time step 15, Epoch 280: Loss 0.0528\n",
      "Time step 15, Epoch 290: Loss 0.0565\n",
      "Time step 15, Epoch 300: Loss 0.0509\n",
      "Time step 15, Epoch 310: Loss 0.0524\n",
      "Time step 15, Epoch 320: Loss 0.0554\n",
      "Time step 15, Epoch 330: Loss 0.0488\n",
      "Time step 15, Epoch 340: Loss 0.0454\n",
      "Time step 15, Epoch 350: Loss 0.0537\n",
      "Time step 15, Epoch 360: Loss 0.0412\n",
      "Time step 15, Epoch 370: Loss 0.0412\n",
      "Time step 15, Epoch 380: Loss 0.0423\n"
     ]
    },
    {
     "name": "stderr",
     "output_type": "stream",
     "text": [
      "GCN Embeddings:  31%|█████████████████▏                                      | 15/49 [02:18<03:58,  7.01s/it]"
     ]
    },
    {
     "name": "stdout",
     "output_type": "stream",
     "text": [
      "Time step 15, Epoch 390: Loss 0.0378\n"
     ]
    },
    {
     "name": "stderr",
     "output_type": "stream",
     "text": [
      "/Users/nick/AML/src/features/network_features.py:196: UserWarning: To copy construct from a tensor, it is recommended to use sourceTensor.detach().clone() or sourceTensor.detach().clone().requires_grad_(True), rather than torch.tensor(sourceTensor).\n",
      "  train_mask = torch.tensor(train_mask, dtype=torch.bool)\n"
     ]
    },
    {
     "name": "stdout",
     "output_type": "stream",
     "text": [
      "Time step 16, Epoch 0: Loss 4.5063\n",
      "Time step 16, Epoch 10: Loss 2.2974\n",
      "Time step 16, Epoch 20: Loss 1.2532\n",
      "Time step 16, Epoch 30: Loss 0.6709\n",
      "Time step 16, Epoch 40: Loss 0.4095\n",
      "Time step 16, Epoch 50: Loss 0.2763\n",
      "Time step 16, Epoch 60: Loss 0.2415\n",
      "Time step 16, Epoch 70: Loss 0.1868\n",
      "Time step 16, Epoch 80: Loss 0.1859\n",
      "Time step 16, Epoch 90: Loss 0.1646\n",
      "Time step 16, Epoch 100: Loss 0.1479\n",
      "Time step 16, Epoch 110: Loss 0.1413\n",
      "Time step 16, Epoch 120: Loss 0.1377\n",
      "Time step 16, Epoch 130: Loss 0.1212\n",
      "Time step 16, Epoch 140: Loss 0.1247\n",
      "Time step 16, Epoch 150: Loss 0.1062\n",
      "Time step 16, Epoch 160: Loss 0.0968\n",
      "Time step 16, Epoch 170: Loss 0.0916\n",
      "Time step 16, Epoch 180: Loss 0.0920\n",
      "Time step 16, Epoch 190: Loss 0.0824\n",
      "Time step 16, Epoch 200: Loss 0.0816\n",
      "Time step 16, Epoch 210: Loss 0.0680\n",
      "Time step 16, Epoch 220: Loss 0.0682\n",
      "Time step 16, Epoch 230: Loss 0.0637\n",
      "Time step 16, Epoch 240: Loss 0.0641\n",
      "Time step 16, Epoch 250: Loss 0.0760\n",
      "Time step 16, Epoch 260: Loss 0.0632\n",
      "Time step 16, Epoch 270: Loss 0.0562\n",
      "Time step 16, Epoch 280: Loss 0.0598\n",
      "Time step 16, Epoch 290: Loss 0.0559\n",
      "Time step 16, Epoch 300: Loss 0.0586\n",
      "Time step 16, Epoch 310: Loss 0.0562\n",
      "Time step 16, Epoch 320: Loss 0.0469\n",
      "Time step 16, Epoch 330: Loss 0.0531\n",
      "Time step 16, Epoch 340: Loss 0.0514\n",
      "Time step 16, Epoch 350: Loss 0.0524\n",
      "Time step 16, Epoch 360: Loss 0.0358\n",
      "Time step 16, Epoch 370: Loss 0.0474\n",
      "Time step 16, Epoch 380: Loss 0.0383\n",
      "Time step 16, Epoch 390: Loss 0.0454\n"
     ]
    },
    {
     "name": "stderr",
     "output_type": "stream",
     "text": [
      "GCN Embeddings:  33%|██████████████████▎                                     | 16/49 [02:25<03:50,  6.98s/it]/Users/nick/AML/src/features/network_features.py:196: UserWarning: To copy construct from a tensor, it is recommended to use sourceTensor.detach().clone() or sourceTensor.detach().clone().requires_grad_(True), rather than torch.tensor(sourceTensor).\n",
      "  train_mask = torch.tensor(train_mask, dtype=torch.bool)\n"
     ]
    },
    {
     "name": "stdout",
     "output_type": "stream",
     "text": [
      "Time step 17, Epoch 0: Loss 5.7845\n",
      "Time step 17, Epoch 10: Loss 2.3525\n",
      "Time step 17, Epoch 20: Loss 1.1374\n",
      "Time step 17, Epoch 30: Loss 0.6710\n",
      "Time step 17, Epoch 40: Loss 0.4242\n",
      "Time step 17, Epoch 50: Loss 0.3029\n",
      "Time step 17, Epoch 60: Loss 0.2527\n",
      "Time step 17, Epoch 70: Loss 0.2072\n",
      "Time step 17, Epoch 80: Loss 0.1683\n",
      "Time step 17, Epoch 90: Loss 0.1659\n",
      "Time step 17, Epoch 100: Loss 0.1618\n",
      "Time step 17, Epoch 110: Loss 0.1385\n",
      "Time step 17, Epoch 120: Loss 0.1294\n",
      "Time step 17, Epoch 130: Loss 0.1166\n",
      "Time step 17, Epoch 140: Loss 0.1098\n",
      "Time step 17, Epoch 150: Loss 0.1069\n",
      "Time step 17, Epoch 160: Loss 0.0985\n",
      "Time step 17, Epoch 170: Loss 0.0890\n",
      "Time step 17, Epoch 180: Loss 0.0884\n",
      "Time step 17, Epoch 190: Loss 0.0839\n",
      "Time step 17, Epoch 200: Loss 0.0839\n",
      "Time step 17, Epoch 210: Loss 0.0815\n",
      "Time step 17, Epoch 220: Loss 0.0736\n",
      "Time step 17, Epoch 230: Loss 0.0751\n",
      "Time step 17, Epoch 240: Loss 0.0710\n",
      "Time step 17, Epoch 250: Loss 0.0681\n",
      "Time step 17, Epoch 260: Loss 0.0661\n",
      "Time step 17, Epoch 270: Loss 0.0664\n",
      "Time step 17, Epoch 280: Loss 0.0627\n",
      "Time step 17, Epoch 290: Loss 0.0539\n",
      "Time step 17, Epoch 300: Loss 0.0531\n",
      "Time step 17, Epoch 310: Loss 0.0478\n",
      "Time step 17, Epoch 320: Loss 0.0503\n",
      "Time step 17, Epoch 330: Loss 0.0428\n",
      "Time step 17, Epoch 340: Loss 0.0433\n",
      "Time step 17, Epoch 350: Loss 0.0413\n",
      "Time step 17, Epoch 360: Loss 0.0420\n",
      "Time step 17, Epoch 370: Loss 0.0398\n",
      "Time step 17, Epoch 380: Loss 0.0374\n"
     ]
    },
    {
     "name": "stderr",
     "output_type": "stream",
     "text": [
      "GCN Embeddings:  35%|███████████████████▍                                    | 17/49 [02:32<03:49,  7.16s/it]"
     ]
    },
    {
     "name": "stdout",
     "output_type": "stream",
     "text": [
      "Time step 17, Epoch 390: Loss 0.0319\n"
     ]
    },
    {
     "name": "stderr",
     "output_type": "stream",
     "text": [
      "/Users/nick/AML/src/features/network_features.py:196: UserWarning: To copy construct from a tensor, it is recommended to use sourceTensor.detach().clone() or sourceTensor.detach().clone().requires_grad_(True), rather than torch.tensor(sourceTensor).\n",
      "  train_mask = torch.tensor(train_mask, dtype=torch.bool)\n"
     ]
    },
    {
     "name": "stdout",
     "output_type": "stream",
     "text": [
      "Time step 18, Epoch 0: Loss 4.7654\n",
      "Time step 18, Epoch 10: Loss 1.8905\n",
      "Time step 18, Epoch 20: Loss 1.1133\n",
      "Time step 18, Epoch 30: Loss 0.6650\n",
      "Time step 18, Epoch 40: Loss 0.4368\n",
      "Time step 18, Epoch 50: Loss 0.2922\n",
      "Time step 18, Epoch 60: Loss 0.2297\n",
      "Time step 18, Epoch 70: Loss 0.1811\n",
      "Time step 18, Epoch 80: Loss 0.1529\n",
      "Time step 18, Epoch 90: Loss 0.1275\n",
      "Time step 18, Epoch 100: Loss 0.1199\n",
      "Time step 18, Epoch 110: Loss 0.1135\n",
      "Time step 18, Epoch 120: Loss 0.1001\n",
      "Time step 18, Epoch 130: Loss 0.0933\n",
      "Time step 18, Epoch 140: Loss 0.0863\n",
      "Time step 18, Epoch 150: Loss 0.0716\n",
      "Time step 18, Epoch 160: Loss 0.0743\n",
      "Time step 18, Epoch 170: Loss 0.0660\n",
      "Time step 18, Epoch 180: Loss 0.0618\n",
      "Time step 18, Epoch 190: Loss 0.0597\n",
      "Time step 18, Epoch 200: Loss 0.0632\n",
      "Time step 18, Epoch 210: Loss 0.0511\n",
      "Time step 18, Epoch 220: Loss 0.0527\n",
      "Time step 18, Epoch 230: Loss 0.0516\n",
      "Time step 18, Epoch 240: Loss 0.0457\n",
      "Time step 18, Epoch 250: Loss 0.0402\n",
      "Time step 18, Epoch 260: Loss 0.0453\n",
      "Time step 18, Epoch 270: Loss 0.0409\n",
      "Time step 18, Epoch 280: Loss 0.0433\n",
      "Time step 18, Epoch 290: Loss 0.0375\n",
      "Time step 18, Epoch 300: Loss 0.0370\n",
      "Time step 18, Epoch 310: Loss 0.0297\n",
      "Time step 18, Epoch 320: Loss 0.0340\n",
      "Time step 18, Epoch 330: Loss 0.0310\n",
      "Time step 18, Epoch 340: Loss 0.0304\n",
      "Time step 18, Epoch 350: Loss 0.0313\n",
      "Time step 18, Epoch 360: Loss 0.0270\n",
      "Time step 18, Epoch 370: Loss 0.0269\n",
      "Time step 18, Epoch 380: Loss 0.0256\n"
     ]
    },
    {
     "name": "stderr",
     "output_type": "stream",
     "text": [
      "GCN Embeddings:  37%|████████████████████▌                                   | 18/49 [02:38<03:27,  6.68s/it]"
     ]
    },
    {
     "name": "stdout",
     "output_type": "stream",
     "text": [
      "Time step 18, Epoch 390: Loss 0.0250\n"
     ]
    },
    {
     "name": "stderr",
     "output_type": "stream",
     "text": [
      "/Users/nick/AML/src/features/network_features.py:196: UserWarning: To copy construct from a tensor, it is recommended to use sourceTensor.detach().clone() or sourceTensor.detach().clone().requires_grad_(True), rather than torch.tensor(sourceTensor).\n",
      "  train_mask = torch.tensor(train_mask, dtype=torch.bool)\n"
     ]
    },
    {
     "name": "stdout",
     "output_type": "stream",
     "text": [
      "Time step 19, Epoch 0: Loss 4.8128\n",
      "Time step 19, Epoch 10: Loss 2.0501\n",
      "Time step 19, Epoch 20: Loss 1.2274\n",
      "Time step 19, Epoch 30: Loss 0.7865\n",
      "Time step 19, Epoch 40: Loss 0.5100\n",
      "Time step 19, Epoch 50: Loss 0.3568\n",
      "Time step 19, Epoch 60: Loss 0.2772\n",
      "Time step 19, Epoch 70: Loss 0.2354\n",
      "Time step 19, Epoch 80: Loss 0.2015\n",
      "Time step 19, Epoch 90: Loss 0.1848\n",
      "Time step 19, Epoch 100: Loss 0.1698\n",
      "Time step 19, Epoch 110: Loss 0.1622\n",
      "Time step 19, Epoch 120: Loss 0.1419\n",
      "Time step 19, Epoch 130: Loss 0.1408\n",
      "Time step 19, Epoch 140: Loss 0.1223\n",
      "Time step 19, Epoch 150: Loss 0.1174\n",
      "Time step 19, Epoch 160: Loss 0.1227\n",
      "Time step 19, Epoch 170: Loss 0.1056\n",
      "Time step 19, Epoch 180: Loss 0.1107\n",
      "Time step 19, Epoch 190: Loss 0.1115\n",
      "Time step 19, Epoch 200: Loss 0.1105\n",
      "Time step 19, Epoch 210: Loss 0.0983\n",
      "Time step 19, Epoch 220: Loss 0.0976\n",
      "Time step 19, Epoch 230: Loss 0.0929\n",
      "Time step 19, Epoch 240: Loss 0.0830\n",
      "Time step 19, Epoch 250: Loss 0.0843\n",
      "Time step 19, Epoch 260: Loss 0.0791\n",
      "Time step 19, Epoch 270: Loss 0.0825\n",
      "Time step 19, Epoch 280: Loss 0.0723\n",
      "Time step 19, Epoch 290: Loss 0.0822\n",
      "Time step 19, Epoch 300: Loss 0.0718\n",
      "Time step 19, Epoch 310: Loss 0.0707\n",
      "Time step 19, Epoch 320: Loss 0.0652\n",
      "Time step 19, Epoch 330: Loss 0.0637\n",
      "Time step 19, Epoch 340: Loss 0.0651\n",
      "Time step 19, Epoch 350: Loss 0.0674\n",
      "Time step 19, Epoch 360: Loss 0.0586\n",
      "Time step 19, Epoch 370: Loss 0.0578\n",
      "Time step 19, Epoch 380: Loss 0.0546\n"
     ]
    },
    {
     "name": "stderr",
     "output_type": "stream",
     "text": [
      "GCN Embeddings:  39%|█████████████████████▋                                  | 19/49 [02:46<03:29,  6.99s/it]"
     ]
    },
    {
     "name": "stdout",
     "output_type": "stream",
     "text": [
      "Time step 19, Epoch 390: Loss 0.0560\n"
     ]
    },
    {
     "name": "stderr",
     "output_type": "stream",
     "text": [
      "/Users/nick/AML/src/features/network_features.py:196: UserWarning: To copy construct from a tensor, it is recommended to use sourceTensor.detach().clone() or sourceTensor.detach().clone().requires_grad_(True), rather than torch.tensor(sourceTensor).\n",
      "  train_mask = torch.tensor(train_mask, dtype=torch.bool)\n"
     ]
    },
    {
     "name": "stdout",
     "output_type": "stream",
     "text": [
      "Time step 20, Epoch 0: Loss 4.8823\n",
      "Time step 20, Epoch 10: Loss 2.5625\n",
      "Time step 20, Epoch 20: Loss 1.4157\n",
      "Time step 20, Epoch 30: Loss 0.8005\n",
      "Time step 20, Epoch 40: Loss 0.5350\n",
      "Time step 20, Epoch 50: Loss 0.4195\n",
      "Time step 20, Epoch 60: Loss 0.3652\n",
      "Time step 20, Epoch 70: Loss 0.3356\n",
      "Time step 20, Epoch 80: Loss 0.2933\n",
      "Time step 20, Epoch 90: Loss 0.2937\n",
      "Time step 20, Epoch 100: Loss 0.2672\n",
      "Time step 20, Epoch 110: Loss 0.2657\n",
      "Time step 20, Epoch 120: Loss 0.2396\n",
      "Time step 20, Epoch 130: Loss 0.2313\n",
      "Time step 20, Epoch 140: Loss 0.2249\n",
      "Time step 20, Epoch 150: Loss 0.2085\n",
      "Time step 20, Epoch 160: Loss 0.2149\n",
      "Time step 20, Epoch 170: Loss 0.1947\n",
      "Time step 20, Epoch 180: Loss 0.1864\n",
      "Time step 20, Epoch 190: Loss 0.1773\n",
      "Time step 20, Epoch 200: Loss 0.1695\n",
      "Time step 20, Epoch 210: Loss 0.1666\n",
      "Time step 20, Epoch 220: Loss 0.1551\n",
      "Time step 20, Epoch 230: Loss 0.1467\n",
      "Time step 20, Epoch 240: Loss 0.1427\n",
      "Time step 20, Epoch 250: Loss 0.1408\n",
      "Time step 20, Epoch 260: Loss 0.1318\n",
      "Time step 20, Epoch 270: Loss 0.1312\n",
      "Time step 20, Epoch 280: Loss 0.1254\n",
      "Time step 20, Epoch 290: Loss 0.1167\n",
      "Time step 20, Epoch 300: Loss 0.1216\n",
      "Time step 20, Epoch 310: Loss 0.1150\n",
      "Time step 20, Epoch 320: Loss 0.1042\n",
      "Time step 20, Epoch 330: Loss 0.1034\n",
      "Time step 20, Epoch 340: Loss 0.1043\n",
      "Time step 20, Epoch 350: Loss 0.1110\n",
      "Time step 20, Epoch 360: Loss 0.0953\n",
      "Time step 20, Epoch 370: Loss 0.0985\n",
      "Time step 20, Epoch 380: Loss 0.1043\n",
      "Time step 20, Epoch 390: Loss 0.0768\n"
     ]
    },
    {
     "name": "stderr",
     "output_type": "stream",
     "text": [
      "GCN Embeddings:  41%|██████████████████████▊                                 | 20/49 [02:55<03:41,  7.63s/it]/Users/nick/AML/src/features/network_features.py:196: UserWarning: To copy construct from a tensor, it is recommended to use sourceTensor.detach().clone() or sourceTensor.detach().clone().requires_grad_(True), rather than torch.tensor(sourceTensor).\n",
      "  train_mask = torch.tensor(train_mask, dtype=torch.bool)\n"
     ]
    },
    {
     "name": "stdout",
     "output_type": "stream",
     "text": [
      "Time step 21, Epoch 0: Loss 4.5144\n",
      "Time step 21, Epoch 10: Loss 2.2135\n",
      "Time step 21, Epoch 20: Loss 1.2643\n",
      "Time step 21, Epoch 30: Loss 0.7369\n",
      "Time step 21, Epoch 40: Loss 0.4730\n",
      "Time step 21, Epoch 50: Loss 0.3377\n",
      "Time step 21, Epoch 60: Loss 0.2398\n",
      "Time step 21, Epoch 70: Loss 0.2077\n",
      "Time step 21, Epoch 80: Loss 0.1909\n",
      "Time step 21, Epoch 90: Loss 0.1681\n",
      "Time step 21, Epoch 100: Loss 0.1486\n",
      "Time step 21, Epoch 110: Loss 0.1376\n",
      "Time step 21, Epoch 120: Loss 0.1249\n",
      "Time step 21, Epoch 130: Loss 0.1254\n",
      "Time step 21, Epoch 140: Loss 0.1116\n",
      "Time step 21, Epoch 150: Loss 0.1085\n",
      "Time step 21, Epoch 160: Loss 0.1004\n",
      "Time step 21, Epoch 170: Loss 0.1011\n",
      "Time step 21, Epoch 180: Loss 0.0897\n",
      "Time step 21, Epoch 190: Loss 0.0847\n",
      "Time step 21, Epoch 200: Loss 0.0715\n",
      "Time step 21, Epoch 210: Loss 0.0769\n",
      "Time step 21, Epoch 220: Loss 0.0730\n",
      "Time step 21, Epoch 230: Loss 0.0629\n",
      "Time step 21, Epoch 240: Loss 0.0573\n",
      "Time step 21, Epoch 250: Loss 0.0604\n",
      "Time step 21, Epoch 260: Loss 0.0533\n",
      "Time step 21, Epoch 270: Loss 0.0574\n",
      "Time step 21, Epoch 280: Loss 0.0515\n",
      "Time step 21, Epoch 290: Loss 0.0480\n",
      "Time step 21, Epoch 300: Loss 0.0463\n",
      "Time step 21, Epoch 310: Loss 0.0524\n",
      "Time step 21, Epoch 320: Loss 0.0382\n",
      "Time step 21, Epoch 330: Loss 0.0388\n",
      "Time step 21, Epoch 340: Loss 0.0422\n",
      "Time step 21, Epoch 350: Loss 0.0435\n",
      "Time step 21, Epoch 360: Loss 0.0333\n",
      "Time step 21, Epoch 370: Loss 0.0295\n",
      "Time step 21, Epoch 380: Loss 0.0307\n",
      "Time step 21, Epoch 390: Loss 0.0303\n"
     ]
    },
    {
     "name": "stderr",
     "output_type": "stream",
     "text": [
      "GCN Embeddings:  43%|████████████████████████                                | 21/49 [03:03<03:36,  7.72s/it]/Users/nick/AML/src/features/network_features.py:196: UserWarning: To copy construct from a tensor, it is recommended to use sourceTensor.detach().clone() or sourceTensor.detach().clone().requires_grad_(True), rather than torch.tensor(sourceTensor).\n",
      "  train_mask = torch.tensor(train_mask, dtype=torch.bool)\n"
     ]
    },
    {
     "name": "stdout",
     "output_type": "stream",
     "text": [
      "Time step 22, Epoch 0: Loss 5.2581\n",
      "Time step 22, Epoch 10: Loss 1.9186\n",
      "Time step 22, Epoch 20: Loss 1.2000\n",
      "Time step 22, Epoch 30: Loss 0.7852\n",
      "Time step 22, Epoch 40: Loss 0.5054\n",
      "Time step 22, Epoch 50: Loss 0.3648\n",
      "Time step 22, Epoch 60: Loss 0.2739\n",
      "Time step 22, Epoch 70: Loss 0.2103\n",
      "Time step 22, Epoch 80: Loss 0.1754\n",
      "Time step 22, Epoch 90: Loss 0.1738\n",
      "Time step 22, Epoch 100: Loss 0.1523\n",
      "Time step 22, Epoch 110: Loss 0.1467\n",
      "Time step 22, Epoch 120: Loss 0.1380\n",
      "Time step 22, Epoch 130: Loss 0.1243\n",
      "Time step 22, Epoch 140: Loss 0.1214\n",
      "Time step 22, Epoch 150: Loss 0.1126\n",
      "Time step 22, Epoch 160: Loss 0.1067\n",
      "Time step 22, Epoch 170: Loss 0.1097\n",
      "Time step 22, Epoch 180: Loss 0.1052\n",
      "Time step 22, Epoch 190: Loss 0.0980\n",
      "Time step 22, Epoch 200: Loss 0.1010\n",
      "Time step 22, Epoch 210: Loss 0.0948\n",
      "Time step 22, Epoch 220: Loss 0.0942\n",
      "Time step 22, Epoch 230: Loss 0.0922\n",
      "Time step 22, Epoch 240: Loss 0.0851\n",
      "Time step 22, Epoch 250: Loss 0.0835\n",
      "Time step 22, Epoch 260: Loss 0.0795\n",
      "Time step 22, Epoch 270: Loss 0.0757\n",
      "Time step 22, Epoch 280: Loss 0.0786\n",
      "Time step 22, Epoch 290: Loss 0.0789\n",
      "Time step 22, Epoch 300: Loss 0.0827\n",
      "Time step 22, Epoch 310: Loss 0.0691\n",
      "Time step 22, Epoch 320: Loss 0.0715\n",
      "Time step 22, Epoch 330: Loss 0.0681\n",
      "Time step 22, Epoch 340: Loss 0.0725\n",
      "Time step 22, Epoch 350: Loss 0.0735\n",
      "Time step 22, Epoch 360: Loss 0.0668\n",
      "Time step 22, Epoch 370: Loss 0.0619\n",
      "Time step 22, Epoch 380: Loss 0.0586\n",
      "Time step 22, Epoch 390: Loss 0.0665\n"
     ]
    },
    {
     "name": "stderr",
     "output_type": "stream",
     "text": [
      "GCN Embeddings:  45%|█████████████████████████▏                              | 22/49 [03:15<04:02,  8.98s/it]/Users/nick/AML/src/features/network_features.py:196: UserWarning: To copy construct from a tensor, it is recommended to use sourceTensor.detach().clone() or sourceTensor.detach().clone().requires_grad_(True), rather than torch.tensor(sourceTensor).\n",
      "  train_mask = torch.tensor(train_mask, dtype=torch.bool)\n"
     ]
    },
    {
     "name": "stdout",
     "output_type": "stream",
     "text": [
      "Time step 23, Epoch 0: Loss 4.3570\n",
      "Time step 23, Epoch 10: Loss 1.2444\n",
      "Time step 23, Epoch 20: Loss 0.7331\n",
      "Time step 23, Epoch 30: Loss 0.4991\n",
      "Time step 23, Epoch 40: Loss 0.3693\n",
      "Time step 23, Epoch 50: Loss 0.2721\n",
      "Time step 23, Epoch 60: Loss 0.2054\n",
      "Time step 23, Epoch 70: Loss 0.1745\n",
      "Time step 23, Epoch 80: Loss 0.1477\n",
      "Time step 23, Epoch 90: Loss 0.1233\n",
      "Time step 23, Epoch 100: Loss 0.0944\n",
      "Time step 23, Epoch 110: Loss 0.0970\n",
      "Time step 23, Epoch 120: Loss 0.0853\n",
      "Time step 23, Epoch 130: Loss 0.0788\n",
      "Time step 23, Epoch 140: Loss 0.0668\n",
      "Time step 23, Epoch 150: Loss 0.0644\n",
      "Time step 23, Epoch 160: Loss 0.0538\n",
      "Time step 23, Epoch 170: Loss 0.0579\n",
      "Time step 23, Epoch 180: Loss 0.0473\n",
      "Time step 23, Epoch 190: Loss 0.0477\n",
      "Time step 23, Epoch 200: Loss 0.0452\n",
      "Time step 23, Epoch 210: Loss 0.0409\n",
      "Time step 23, Epoch 220: Loss 0.0375\n",
      "Time step 23, Epoch 230: Loss 0.0361\n",
      "Time step 23, Epoch 240: Loss 0.0370\n",
      "Time step 23, Epoch 250: Loss 0.0368\n",
      "Time step 23, Epoch 260: Loss 0.0345\n",
      "Time step 23, Epoch 270: Loss 0.0301\n",
      "Time step 23, Epoch 280: Loss 0.0288\n",
      "Time step 23, Epoch 290: Loss 0.0276\n",
      "Time step 23, Epoch 300: Loss 0.0306\n",
      "Time step 23, Epoch 310: Loss 0.0251\n",
      "Time step 23, Epoch 320: Loss 0.0258\n",
      "Time step 23, Epoch 330: Loss 0.0236\n",
      "Time step 23, Epoch 340: Loss 0.0225\n",
      "Time step 23, Epoch 350: Loss 0.0252\n",
      "Time step 23, Epoch 360: Loss 0.0278\n",
      "Time step 23, Epoch 370: Loss 0.0225\n",
      "Time step 23, Epoch 380: Loss 0.0207\n",
      "Time step 23, Epoch 390: Loss 0.0187\n"
     ]
    },
    {
     "name": "stderr",
     "output_type": "stream",
     "text": [
      "GCN Embeddings:  47%|██████████████████████████▎                             | 23/49 [03:24<03:53,  8.97s/it]/Users/nick/AML/src/features/network_features.py:196: UserWarning: To copy construct from a tensor, it is recommended to use sourceTensor.detach().clone() or sourceTensor.detach().clone().requires_grad_(True), rather than torch.tensor(sourceTensor).\n",
      "  train_mask = torch.tensor(train_mask, dtype=torch.bool)\n"
     ]
    },
    {
     "name": "stdout",
     "output_type": "stream",
     "text": [
      "Time step 24, Epoch 0: Loss 5.1566\n",
      "Time step 24, Epoch 10: Loss 1.9625\n",
      "Time step 24, Epoch 20: Loss 1.0882\n",
      "Time step 24, Epoch 30: Loss 0.6994\n",
      "Time step 24, Epoch 40: Loss 0.4720\n",
      "Time step 24, Epoch 50: Loss 0.3468\n",
      "Time step 24, Epoch 60: Loss 0.2615\n",
      "Time step 24, Epoch 70: Loss 0.2310\n",
      "Time step 24, Epoch 80: Loss 0.2112\n",
      "Time step 24, Epoch 90: Loss 0.1905\n",
      "Time step 24, Epoch 100: Loss 0.1682\n",
      "Time step 24, Epoch 110: Loss 0.1580\n",
      "Time step 24, Epoch 120: Loss 0.1492\n",
      "Time step 24, Epoch 130: Loss 0.1424\n",
      "Time step 24, Epoch 140: Loss 0.1275\n",
      "Time step 24, Epoch 150: Loss 0.1193\n",
      "Time step 24, Epoch 160: Loss 0.1046\n",
      "Time step 24, Epoch 170: Loss 0.1054\n",
      "Time step 24, Epoch 180: Loss 0.0977\n",
      "Time step 24, Epoch 190: Loss 0.0955\n",
      "Time step 24, Epoch 200: Loss 0.0891\n",
      "Time step 24, Epoch 210: Loss 0.0855\n",
      "Time step 24, Epoch 220: Loss 0.0827\n",
      "Time step 24, Epoch 230: Loss 0.0746\n",
      "Time step 24, Epoch 240: Loss 0.0797\n",
      "Time step 24, Epoch 250: Loss 0.0776\n",
      "Time step 24, Epoch 260: Loss 0.0741\n",
      "Time step 24, Epoch 270: Loss 0.0677\n",
      "Time step 24, Epoch 280: Loss 0.0709\n",
      "Time step 24, Epoch 290: Loss 0.0661\n",
      "Time step 24, Epoch 300: Loss 0.0656\n",
      "Time step 24, Epoch 310: Loss 0.0542\n",
      "Time step 24, Epoch 320: Loss 0.0592\n",
      "Time step 24, Epoch 330: Loss 0.0556\n",
      "Time step 24, Epoch 340: Loss 0.0493\n",
      "Time step 24, Epoch 350: Loss 0.0522\n",
      "Time step 24, Epoch 360: Loss 0.0450\n",
      "Time step 24, Epoch 370: Loss 0.0485\n",
      "Time step 24, Epoch 380: Loss 0.0475\n",
      "Time step 24, Epoch 390: Loss 0.0454\n"
     ]
    },
    {
     "name": "stderr",
     "output_type": "stream",
     "text": [
      "GCN Embeddings:  49%|███████████████████████████▍                            | 24/49 [03:33<03:50,  9.20s/it]/Users/nick/AML/src/features/network_features.py:196: UserWarning: To copy construct from a tensor, it is recommended to use sourceTensor.detach().clone() or sourceTensor.detach().clone().requires_grad_(True), rather than torch.tensor(sourceTensor).\n",
      "  train_mask = torch.tensor(train_mask, dtype=torch.bool)\n"
     ]
    },
    {
     "name": "stdout",
     "output_type": "stream",
     "text": [
      "Time step 25, Epoch 0: Loss 4.5078\n",
      "Time step 25, Epoch 10: Loss 1.5829\n",
      "Time step 25, Epoch 20: Loss 0.8759\n",
      "Time step 25, Epoch 30: Loss 0.5751\n",
      "Time step 25, Epoch 40: Loss 0.3851\n",
      "Time step 25, Epoch 50: Loss 0.2707\n",
      "Time step 25, Epoch 60: Loss 0.2164\n",
      "Time step 25, Epoch 70: Loss 0.1766\n",
      "Time step 25, Epoch 80: Loss 0.1549\n",
      "Time step 25, Epoch 90: Loss 0.1371\n",
      "Time step 25, Epoch 100: Loss 0.1152\n",
      "Time step 25, Epoch 110: Loss 0.1065\n",
      "Time step 25, Epoch 120: Loss 0.0971\n",
      "Time step 25, Epoch 130: Loss 0.0881\n",
      "Time step 25, Epoch 140: Loss 0.0867\n",
      "Time step 25, Epoch 150: Loss 0.0742\n",
      "Time step 25, Epoch 160: Loss 0.0753\n",
      "Time step 25, Epoch 170: Loss 0.0777\n",
      "Time step 25, Epoch 180: Loss 0.0701\n",
      "Time step 25, Epoch 190: Loss 0.0589\n",
      "Time step 25, Epoch 200: Loss 0.0573\n",
      "Time step 25, Epoch 210: Loss 0.0560\n",
      "Time step 25, Epoch 220: Loss 0.0512\n",
      "Time step 25, Epoch 230: Loss 0.0461\n",
      "Time step 25, Epoch 240: Loss 0.0451\n",
      "Time step 25, Epoch 250: Loss 0.0458\n",
      "Time step 25, Epoch 260: Loss 0.0411\n",
      "Time step 25, Epoch 270: Loss 0.0485\n",
      "Time step 25, Epoch 280: Loss 0.0429\n",
      "Time step 25, Epoch 290: Loss 0.0402\n",
      "Time step 25, Epoch 300: Loss 0.0412\n",
      "Time step 25, Epoch 310: Loss 0.0348\n",
      "Time step 25, Epoch 320: Loss 0.0329\n",
      "Time step 25, Epoch 330: Loss 0.0364\n",
      "Time step 25, Epoch 340: Loss 0.0292\n",
      "Time step 25, Epoch 350: Loss 0.0289\n",
      "Time step 25, Epoch 360: Loss 0.0319\n",
      "Time step 25, Epoch 370: Loss 0.0291\n",
      "Time step 25, Epoch 380: Loss 0.0275\n"
     ]
    },
    {
     "name": "stderr",
     "output_type": "stream",
     "text": [
      "GCN Embeddings:  51%|████████████████████████████▌                           | 25/49 [03:39<03:15,  8.14s/it]"
     ]
    },
    {
     "name": "stdout",
     "output_type": "stream",
     "text": [
      "Time step 25, Epoch 390: Loss 0.0275\n"
     ]
    },
    {
     "name": "stderr",
     "output_type": "stream",
     "text": [
      "/Users/nick/AML/src/features/network_features.py:196: UserWarning: To copy construct from a tensor, it is recommended to use sourceTensor.detach().clone() or sourceTensor.detach().clone().requires_grad_(True), rather than torch.tensor(sourceTensor).\n",
      "  train_mask = torch.tensor(train_mask, dtype=torch.bool)\n"
     ]
    },
    {
     "name": "stdout",
     "output_type": "stream",
     "text": [
      "Time step 26, Epoch 0: Loss 5.3334\n",
      "Time step 26, Epoch 10: Loss 2.3195\n",
      "Time step 26, Epoch 20: Loss 1.1837\n",
      "Time step 26, Epoch 30: Loss 0.7102\n",
      "Time step 26, Epoch 40: Loss 0.4762\n",
      "Time step 26, Epoch 50: Loss 0.3693\n",
      "Time step 26, Epoch 60: Loss 0.2741\n",
      "Time step 26, Epoch 70: Loss 0.2315\n",
      "Time step 26, Epoch 80: Loss 0.1951\n",
      "Time step 26, Epoch 90: Loss 0.1786\n",
      "Time step 26, Epoch 100: Loss 0.1570\n",
      "Time step 26, Epoch 110: Loss 0.1602\n",
      "Time step 26, Epoch 120: Loss 0.1411\n",
      "Time step 26, Epoch 130: Loss 0.1244\n",
      "Time step 26, Epoch 140: Loss 0.1389\n",
      "Time step 26, Epoch 150: Loss 0.1238\n",
      "Time step 26, Epoch 160: Loss 0.1146\n",
      "Time step 26, Epoch 170: Loss 0.1162\n",
      "Time step 26, Epoch 180: Loss 0.0994\n",
      "Time step 26, Epoch 190: Loss 0.0966\n",
      "Time step 26, Epoch 200: Loss 0.0907\n",
      "Time step 26, Epoch 210: Loss 0.0887\n",
      "Time step 26, Epoch 220: Loss 0.0798\n",
      "Time step 26, Epoch 230: Loss 0.0738\n",
      "Time step 26, Epoch 240: Loss 0.0787\n",
      "Time step 26, Epoch 250: Loss 0.0588\n",
      "Time step 26, Epoch 260: Loss 0.0649\n",
      "Time step 26, Epoch 270: Loss 0.0643\n",
      "Time step 26, Epoch 280: Loss 0.0696\n",
      "Time step 26, Epoch 290: Loss 0.0555\n",
      "Time step 26, Epoch 300: Loss 0.0545\n",
      "Time step 26, Epoch 310: Loss 0.0496\n",
      "Time step 26, Epoch 320: Loss 0.0472\n",
      "Time step 26, Epoch 330: Loss 0.0411\n",
      "Time step 26, Epoch 340: Loss 0.0432\n",
      "Time step 26, Epoch 350: Loss 0.0410\n",
      "Time step 26, Epoch 360: Loss 0.0438\n",
      "Time step 26, Epoch 370: Loss 0.0503\n",
      "Time step 26, Epoch 380: Loss 0.0352\n",
      "Time step 26, Epoch 390: Loss 0.0390\n"
     ]
    },
    {
     "name": "stderr",
     "output_type": "stream",
     "text": [
      "GCN Embeddings:  53%|█████████████████████████████▋                          | 26/49 [03:45<02:54,  7.59s/it]/Users/nick/AML/src/features/network_features.py:196: UserWarning: To copy construct from a tensor, it is recommended to use sourceTensor.detach().clone() or sourceTensor.detach().clone().requires_grad_(True), rather than torch.tensor(sourceTensor).\n",
      "  train_mask = torch.tensor(train_mask, dtype=torch.bool)\n"
     ]
    },
    {
     "name": "stdout",
     "output_type": "stream",
     "text": [
      "Time step 27, Epoch 0: Loss 10.9409\n",
      "Time step 27, Epoch 10: Loss 2.5881\n",
      "Time step 27, Epoch 20: Loss 0.7327\n",
      "Time step 27, Epoch 30: Loss 0.4387\n",
      "Time step 27, Epoch 40: Loss 0.3065\n",
      "Time step 27, Epoch 50: Loss 0.2071\n",
      "Time step 27, Epoch 60: Loss 0.1539\n",
      "Time step 27, Epoch 70: Loss 0.1178\n",
      "Time step 27, Epoch 80: Loss 0.0864\n",
      "Time step 27, Epoch 90: Loss 0.0672\n",
      "Time step 27, Epoch 100: Loss 0.0748\n",
      "Time step 27, Epoch 110: Loss 0.0563\n",
      "Time step 27, Epoch 120: Loss 0.0704\n",
      "Time step 27, Epoch 130: Loss 0.0463\n",
      "Time step 27, Epoch 140: Loss 0.0448\n",
      "Time step 27, Epoch 150: Loss 0.0396\n",
      "Time step 27, Epoch 160: Loss 0.0305\n",
      "Time step 27, Epoch 170: Loss 0.0307\n",
      "Time step 27, Epoch 180: Loss 0.0460\n",
      "Time step 27, Epoch 190: Loss 0.0386\n",
      "Time step 27, Epoch 200: Loss 0.0234\n",
      "Time step 27, Epoch 210: Loss 0.0274\n",
      "Time step 27, Epoch 220: Loss 0.0253\n",
      "Time step 27, Epoch 230: Loss 0.0213\n",
      "Time step 27, Epoch 240: Loss 0.0230\n",
      "Time step 27, Epoch 250: Loss 0.0225\n",
      "Time step 27, Epoch 260: Loss 0.0193\n",
      "Time step 27, Epoch 270: Loss 0.0179\n",
      "Time step 27, Epoch 280: Loss 0.0208\n",
      "Time step 27, Epoch 290: Loss 0.0194\n",
      "Time step 27, Epoch 300: Loss 0.0182\n",
      "Time step 27, Epoch 310: Loss 0.0134\n",
      "Time step 27, Epoch 320: Loss 0.0188\n",
      "Time step 27, Epoch 330: Loss 0.0276\n",
      "Time step 27, Epoch 340: Loss 0.0174\n",
      "Time step 27, Epoch 350: Loss 0.0147\n",
      "Time step 27, Epoch 360: Loss 0.0170\n",
      "Time step 27, Epoch 370: Loss 0.0118\n",
      "Time step 27, Epoch 380: Loss 0.0096\n"
     ]
    },
    {
     "name": "stderr",
     "output_type": "stream",
     "text": [
      "GCN Embeddings:  55%|██████████████████████████████▊                         | 27/49 [03:49<02:19,  6.36s/it]"
     ]
    },
    {
     "name": "stdout",
     "output_type": "stream",
     "text": [
      "Time step 27, Epoch 390: Loss 0.0126\n"
     ]
    },
    {
     "name": "stderr",
     "output_type": "stream",
     "text": [
      "/Users/nick/AML/src/features/network_features.py:196: UserWarning: To copy construct from a tensor, it is recommended to use sourceTensor.detach().clone() or sourceTensor.detach().clone().requires_grad_(True), rather than torch.tensor(sourceTensor).\n",
      "  train_mask = torch.tensor(train_mask, dtype=torch.bool)\n"
     ]
    },
    {
     "name": "stdout",
     "output_type": "stream",
     "text": [
      "Time step 28, Epoch 0: Loss 5.2454\n",
      "Time step 28, Epoch 10: Loss 2.3422\n",
      "Time step 28, Epoch 20: Loss 1.1168\n",
      "Time step 28, Epoch 30: Loss 0.5868\n",
      "Time step 28, Epoch 40: Loss 0.3357\n",
      "Time step 28, Epoch 50: Loss 0.2141\n",
      "Time step 28, Epoch 60: Loss 0.1454\n",
      "Time step 28, Epoch 70: Loss 0.1154\n",
      "Time step 28, Epoch 80: Loss 0.0918\n",
      "Time step 28, Epoch 90: Loss 0.0713\n",
      "Time step 28, Epoch 100: Loss 0.0689\n",
      "Time step 28, Epoch 110: Loss 0.0531\n",
      "Time step 28, Epoch 120: Loss 0.0452\n",
      "Time step 28, Epoch 130: Loss 0.0465\n",
      "Time step 28, Epoch 140: Loss 0.0444\n",
      "Time step 28, Epoch 150: Loss 0.0452\n",
      "Time step 28, Epoch 160: Loss 0.0342\n",
      "Time step 28, Epoch 170: Loss 0.0292\n",
      "Time step 28, Epoch 180: Loss 0.0319\n",
      "Time step 28, Epoch 190: Loss 0.0234\n",
      "Time step 28, Epoch 200: Loss 0.0300\n",
      "Time step 28, Epoch 210: Loss 0.0275\n",
      "Time step 28, Epoch 220: Loss 0.0255\n",
      "Time step 28, Epoch 230: Loss 0.0213\n",
      "Time step 28, Epoch 240: Loss 0.0180\n",
      "Time step 28, Epoch 250: Loss 0.0193\n",
      "Time step 28, Epoch 260: Loss 0.0187\n",
      "Time step 28, Epoch 270: Loss 0.0189\n",
      "Time step 28, Epoch 280: Loss 0.0177\n",
      "Time step 28, Epoch 290: Loss 0.0189\n",
      "Time step 28, Epoch 300: Loss 0.0148\n",
      "Time step 28, Epoch 310: Loss 0.0153\n",
      "Time step 28, Epoch 320: Loss 0.0142\n",
      "Time step 28, Epoch 330: Loss 0.0159\n",
      "Time step 28, Epoch 340: Loss 0.0167\n",
      "Time step 28, Epoch 350: Loss 0.0113\n",
      "Time step 28, Epoch 360: Loss 0.0174\n",
      "Time step 28, Epoch 370: Loss 0.0102\n",
      "Time step 28, Epoch 380: Loss 0.0113\n",
      "Time step 28, Epoch 390: Loss 0.0116\n"
     ]
    },
    {
     "name": "stderr",
     "output_type": "stream",
     "text": [
      "GCN Embeddings:  57%|████████████████████████████████                        | 28/49 [03:54<02:05,  5.97s/it]/Users/nick/AML/src/features/network_features.py:196: UserWarning: To copy construct from a tensor, it is recommended to use sourceTensor.detach().clone() or sourceTensor.detach().clone().requires_grad_(True), rather than torch.tensor(sourceTensor).\n",
      "  train_mask = torch.tensor(train_mask, dtype=torch.bool)\n"
     ]
    },
    {
     "name": "stdout",
     "output_type": "stream",
     "text": [
      "Time step 29, Epoch 0: Loss 5.0112\n",
      "Time step 29, Epoch 10: Loss 2.1286\n",
      "Time step 29, Epoch 20: Loss 1.2211\n",
      "Time step 29, Epoch 30: Loss 0.7667\n",
      "Time step 29, Epoch 40: Loss 0.5135\n",
      "Time step 29, Epoch 50: Loss 0.3669\n",
      "Time step 29, Epoch 60: Loss 0.2974\n",
      "Time step 29, Epoch 70: Loss 0.2444\n",
      "Time step 29, Epoch 80: Loss 0.2177\n",
      "Time step 29, Epoch 90: Loss 0.1848\n",
      "Time step 29, Epoch 100: Loss 0.1785\n",
      "Time step 29, Epoch 110: Loss 0.1648\n",
      "Time step 29, Epoch 120: Loss 0.1550\n",
      "Time step 29, Epoch 130: Loss 0.1395\n",
      "Time step 29, Epoch 140: Loss 0.1360\n",
      "Time step 29, Epoch 150: Loss 0.1152\n",
      "Time step 29, Epoch 160: Loss 0.1135\n",
      "Time step 29, Epoch 170: Loss 0.1185\n",
      "Time step 29, Epoch 180: Loss 0.1128\n",
      "Time step 29, Epoch 190: Loss 0.1096\n",
      "Time step 29, Epoch 200: Loss 0.1015\n",
      "Time step 29, Epoch 210: Loss 0.1014\n",
      "Time step 29, Epoch 220: Loss 0.0883\n",
      "Time step 29, Epoch 230: Loss 0.0821\n",
      "Time step 29, Epoch 240: Loss 0.0808\n",
      "Time step 29, Epoch 250: Loss 0.0846\n",
      "Time step 29, Epoch 260: Loss 0.0782\n",
      "Time step 29, Epoch 270: Loss 0.0759\n",
      "Time step 29, Epoch 280: Loss 0.0738\n",
      "Time step 29, Epoch 290: Loss 0.0724\n",
      "Time step 29, Epoch 300: Loss 0.0704\n",
      "Time step 29, Epoch 310: Loss 0.0667\n",
      "Time step 29, Epoch 320: Loss 0.0642\n",
      "Time step 29, Epoch 330: Loss 0.0669\n",
      "Time step 29, Epoch 340: Loss 0.0718\n",
      "Time step 29, Epoch 350: Loss 0.0592\n",
      "Time step 29, Epoch 360: Loss 0.0543\n",
      "Time step 29, Epoch 370: Loss 0.0604\n",
      "Time step 29, Epoch 380: Loss 0.0501\n",
      "Time step 29, Epoch 390: Loss 0.0590\n"
     ]
    },
    {
     "name": "stderr",
     "output_type": "stream",
     "text": [
      "GCN Embeddings:  59%|█████████████████████████████████▏                      | 29/49 [04:03<02:17,  6.86s/it]/Users/nick/AML/src/features/network_features.py:196: UserWarning: To copy construct from a tensor, it is recommended to use sourceTensor.detach().clone() or sourceTensor.detach().clone().requires_grad_(True), rather than torch.tensor(sourceTensor).\n",
      "  train_mask = torch.tensor(train_mask, dtype=torch.bool)\n"
     ]
    },
    {
     "name": "stdout",
     "output_type": "stream",
     "text": [
      "Time step 30, Epoch 0: Loss 5.3002\n",
      "Time step 30, Epoch 10: Loss 2.1518\n",
      "Time step 30, Epoch 20: Loss 1.2019\n",
      "Time step 30, Epoch 30: Loss 0.7280\n",
      "Time step 30, Epoch 40: Loss 0.4635\n",
      "Time step 30, Epoch 50: Loss 0.3060\n",
      "Time step 30, Epoch 60: Loss 0.2394\n",
      "Time step 30, Epoch 70: Loss 0.1969\n",
      "Time step 30, Epoch 80: Loss 0.1638\n",
      "Time step 30, Epoch 90: Loss 0.1544\n",
      "Time step 30, Epoch 100: Loss 0.1248\n",
      "Time step 30, Epoch 110: Loss 0.1207\n",
      "Time step 30, Epoch 120: Loss 0.1133\n",
      "Time step 30, Epoch 130: Loss 0.1107\n",
      "Time step 30, Epoch 140: Loss 0.0878\n",
      "Time step 30, Epoch 150: Loss 0.0864\n",
      "Time step 30, Epoch 160: Loss 0.0855\n",
      "Time step 30, Epoch 170: Loss 0.0760\n",
      "Time step 30, Epoch 180: Loss 0.0707\n",
      "Time step 30, Epoch 190: Loss 0.0755\n",
      "Time step 30, Epoch 200: Loss 0.0644\n",
      "Time step 30, Epoch 210: Loss 0.0519\n",
      "Time step 30, Epoch 220: Loss 0.0568\n",
      "Time step 30, Epoch 230: Loss 0.0510\n",
      "Time step 30, Epoch 240: Loss 0.0428\n",
      "Time step 30, Epoch 250: Loss 0.0560\n",
      "Time step 30, Epoch 260: Loss 0.0440\n",
      "Time step 30, Epoch 270: Loss 0.0462\n",
      "Time step 30, Epoch 280: Loss 0.0452\n",
      "Time step 30, Epoch 290: Loss 0.0449\n",
      "Time step 30, Epoch 300: Loss 0.0391\n",
      "Time step 30, Epoch 310: Loss 0.0354\n",
      "Time step 30, Epoch 320: Loss 0.0364\n",
      "Time step 30, Epoch 330: Loss 0.0318\n",
      "Time step 30, Epoch 340: Loss 0.0257\n",
      "Time step 30, Epoch 350: Loss 0.0282\n",
      "Time step 30, Epoch 360: Loss 0.0268\n",
      "Time step 30, Epoch 370: Loss 0.0283\n",
      "Time step 30, Epoch 380: Loss 0.0249\n"
     ]
    },
    {
     "name": "stderr",
     "output_type": "stream",
     "text": [
      "GCN Embeddings:  61%|██████████████████████████████████▎                     | 30/49 [04:09<02:07,  6.69s/it]"
     ]
    },
    {
     "name": "stdout",
     "output_type": "stream",
     "text": [
      "Time step 30, Epoch 390: Loss 0.0294\n"
     ]
    },
    {
     "name": "stderr",
     "output_type": "stream",
     "text": [
      "/Users/nick/AML/src/features/network_features.py:196: UserWarning: To copy construct from a tensor, it is recommended to use sourceTensor.detach().clone() or sourceTensor.detach().clone().requires_grad_(True), rather than torch.tensor(sourceTensor).\n",
      "  train_mask = torch.tensor(train_mask, dtype=torch.bool)\n"
     ]
    },
    {
     "name": "stdout",
     "output_type": "stream",
     "text": [
      "Time step 31, Epoch 0: Loss 4.8867\n",
      "Time step 31, Epoch 10: Loss 2.0059\n",
      "Time step 31, Epoch 20: Loss 0.9814\n",
      "Time step 31, Epoch 30: Loss 0.5639\n",
      "Time step 31, Epoch 40: Loss 0.3766\n",
      "Time step 31, Epoch 50: Loss 0.2758\n",
      "Time step 31, Epoch 60: Loss 0.2181\n",
      "Time step 31, Epoch 70: Loss 0.1846\n",
      "Time step 31, Epoch 80: Loss 0.1510\n",
      "Time step 31, Epoch 90: Loss 0.1346\n",
      "Time step 31, Epoch 100: Loss 0.1304\n",
      "Time step 31, Epoch 110: Loss 0.1114\n",
      "Time step 31, Epoch 120: Loss 0.0924\n",
      "Time step 31, Epoch 130: Loss 0.1053\n",
      "Time step 31, Epoch 140: Loss 0.0943\n",
      "Time step 31, Epoch 150: Loss 0.0835\n",
      "Time step 31, Epoch 160: Loss 0.0806\n",
      "Time step 31, Epoch 170: Loss 0.0758\n",
      "Time step 31, Epoch 180: Loss 0.0659\n",
      "Time step 31, Epoch 190: Loss 0.0656\n",
      "Time step 31, Epoch 200: Loss 0.0605\n",
      "Time step 31, Epoch 210: Loss 0.0620\n",
      "Time step 31, Epoch 220: Loss 0.0611\n",
      "Time step 31, Epoch 230: Loss 0.0506\n",
      "Time step 31, Epoch 240: Loss 0.0494\n",
      "Time step 31, Epoch 250: Loss 0.0463\n",
      "Time step 31, Epoch 260: Loss 0.0426\n",
      "Time step 31, Epoch 270: Loss 0.0435\n",
      "Time step 31, Epoch 280: Loss 0.0348\n",
      "Time step 31, Epoch 290: Loss 0.0417\n",
      "Time step 31, Epoch 300: Loss 0.0371\n",
      "Time step 31, Epoch 310: Loss 0.0394\n",
      "Time step 31, Epoch 320: Loss 0.0344\n",
      "Time step 31, Epoch 330: Loss 0.0310\n",
      "Time step 31, Epoch 340: Loss 0.0335\n",
      "Time step 31, Epoch 350: Loss 0.0235\n",
      "Time step 31, Epoch 360: Loss 0.0284\n",
      "Time step 31, Epoch 370: Loss 0.0255\n",
      "Time step 31, Epoch 380: Loss 0.0247\n"
     ]
    },
    {
     "name": "stderr",
     "output_type": "stream",
     "text": [
      "GCN Embeddings:  63%|███████████████████████████████████▍                    | 31/49 [04:16<01:59,  6.64s/it]"
     ]
    },
    {
     "name": "stdout",
     "output_type": "stream",
     "text": [
      "Time step 31, Epoch 390: Loss 0.0246\n"
     ]
    },
    {
     "name": "stderr",
     "output_type": "stream",
     "text": [
      "/Users/nick/AML/src/features/network_features.py:196: UserWarning: To copy construct from a tensor, it is recommended to use sourceTensor.detach().clone() or sourceTensor.detach().clone().requires_grad_(True), rather than torch.tensor(sourceTensor).\n",
      "  train_mask = torch.tensor(train_mask, dtype=torch.bool)\n"
     ]
    },
    {
     "name": "stdout",
     "output_type": "stream",
     "text": [
      "Time step 32, Epoch 0: Loss 5.3924\n",
      "Time step 32, Epoch 10: Loss 2.5378\n",
      "Time step 32, Epoch 20: Loss 1.3232\n",
      "Time step 32, Epoch 30: Loss 0.7581\n",
      "Time step 32, Epoch 40: Loss 0.5017\n",
      "Time step 32, Epoch 50: Loss 0.4054\n",
      "Time step 32, Epoch 60: Loss 0.3489\n",
      "Time step 32, Epoch 70: Loss 0.3147\n",
      "Time step 32, Epoch 80: Loss 0.2793\n",
      "Time step 32, Epoch 90: Loss 0.2716\n",
      "Time step 32, Epoch 100: Loss 0.2543\n",
      "Time step 32, Epoch 110: Loss 0.2301\n",
      "Time step 32, Epoch 120: Loss 0.2343\n",
      "Time step 32, Epoch 130: Loss 0.2223\n",
      "Time step 32, Epoch 140: Loss 0.2104\n",
      "Time step 32, Epoch 150: Loss 0.1989\n",
      "Time step 32, Epoch 160: Loss 0.1822\n",
      "Time step 32, Epoch 170: Loss 0.1760\n",
      "Time step 32, Epoch 180: Loss 0.1804\n",
      "Time step 32, Epoch 190: Loss 0.1833\n",
      "Time step 32, Epoch 200: Loss 0.1696\n",
      "Time step 32, Epoch 210: Loss 0.1689\n",
      "Time step 32, Epoch 220: Loss 0.1551\n",
      "Time step 32, Epoch 230: Loss 0.1534\n",
      "Time step 32, Epoch 240: Loss 0.1433\n",
      "Time step 32, Epoch 250: Loss 0.1301\n",
      "Time step 32, Epoch 260: Loss 0.1302\n",
      "Time step 32, Epoch 270: Loss 0.1189\n",
      "Time step 32, Epoch 280: Loss 0.1187\n",
      "Time step 32, Epoch 290: Loss 0.1239\n",
      "Time step 32, Epoch 300: Loss 0.1094\n",
      "Time step 32, Epoch 310: Loss 0.1013\n",
      "Time step 32, Epoch 320: Loss 0.1129\n",
      "Time step 32, Epoch 330: Loss 0.1113\n",
      "Time step 32, Epoch 340: Loss 0.0956\n",
      "Time step 32, Epoch 350: Loss 0.0972\n",
      "Time step 32, Epoch 360: Loss 0.0985\n",
      "Time step 32, Epoch 370: Loss 0.0898\n",
      "Time step 32, Epoch 380: Loss 0.0922\n",
      "Time step 32, Epoch 390: Loss 0.0985\n"
     ]
    },
    {
     "name": "stderr",
     "output_type": "stream",
     "text": [
      "GCN Embeddings:  65%|████████████████████████████████████▌                   | 32/49 [04:25<02:05,  7.36s/it]/Users/nick/AML/src/features/network_features.py:196: UserWarning: To copy construct from a tensor, it is recommended to use sourceTensor.detach().clone() or sourceTensor.detach().clone().requires_grad_(True), rather than torch.tensor(sourceTensor).\n",
      "  train_mask = torch.tensor(train_mask, dtype=torch.bool)\n"
     ]
    },
    {
     "name": "stdout",
     "output_type": "stream",
     "text": [
      "Time step 33, Epoch 0: Loss 5.9505\n",
      "Time step 33, Epoch 10: Loss 0.9412\n",
      "Time step 33, Epoch 20: Loss 0.4645\n",
      "Time step 33, Epoch 30: Loss 0.2961\n",
      "Time step 33, Epoch 40: Loss 0.1927\n",
      "Time step 33, Epoch 50: Loss 0.1424\n",
      "Time step 33, Epoch 60: Loss 0.1053\n",
      "Time step 33, Epoch 70: Loss 0.0983\n",
      "Time step 33, Epoch 80: Loss 0.0827\n",
      "Time step 33, Epoch 90: Loss 0.0622\n",
      "Time step 33, Epoch 100: Loss 0.0743\n",
      "Time step 33, Epoch 110: Loss 0.0520\n",
      "Time step 33, Epoch 120: Loss 0.0495\n",
      "Time step 33, Epoch 130: Loss 0.0468\n",
      "Time step 33, Epoch 140: Loss 0.0387\n",
      "Time step 33, Epoch 150: Loss 0.0420\n",
      "Time step 33, Epoch 160: Loss 0.0317\n",
      "Time step 33, Epoch 170: Loss 0.0349\n",
      "Time step 33, Epoch 180: Loss 0.0266\n",
      "Time step 33, Epoch 190: Loss 0.0354\n",
      "Time step 33, Epoch 200: Loss 0.0280\n",
      "Time step 33, Epoch 210: Loss 0.0258\n",
      "Time step 33, Epoch 220: Loss 0.0265\n",
      "Time step 33, Epoch 230: Loss 0.0250\n",
      "Time step 33, Epoch 240: Loss 0.0219\n",
      "Time step 33, Epoch 250: Loss 0.0184\n",
      "Time step 33, Epoch 260: Loss 0.0234\n",
      "Time step 33, Epoch 270: Loss 0.0203\n",
      "Time step 33, Epoch 280: Loss 0.0195\n",
      "Time step 33, Epoch 290: Loss 0.0187\n",
      "Time step 33, Epoch 300: Loss 0.0132\n",
      "Time step 33, Epoch 310: Loss 0.0114\n",
      "Time step 33, Epoch 320: Loss 0.0130\n",
      "Time step 33, Epoch 330: Loss 0.0137\n",
      "Time step 33, Epoch 340: Loss 0.0124\n",
      "Time step 33, Epoch 350: Loss 0.0126\n",
      "Time step 33, Epoch 360: Loss 0.0118\n",
      "Time step 33, Epoch 370: Loss 0.0099\n",
      "Time step 33, Epoch 380: Loss 0.0097\n"
     ]
    },
    {
     "name": "stderr",
     "output_type": "stream",
     "text": [
      "GCN Embeddings:  67%|█████████████████████████████████████▋                  | 33/49 [04:32<01:56,  7.29s/it]"
     ]
    },
    {
     "name": "stdout",
     "output_type": "stream",
     "text": [
      "Time step 33, Epoch 390: Loss 0.0101\n"
     ]
    },
    {
     "name": "stderr",
     "output_type": "stream",
     "text": [
      "/Users/nick/AML/src/features/network_features.py:196: UserWarning: To copy construct from a tensor, it is recommended to use sourceTensor.detach().clone() or sourceTensor.detach().clone().requires_grad_(True), rather than torch.tensor(sourceTensor).\n",
      "  train_mask = torch.tensor(train_mask, dtype=torch.bool)\n"
     ]
    },
    {
     "name": "stdout",
     "output_type": "stream",
     "text": [
      "Time step 34, Epoch 0: Loss 8.1275\n",
      "Time step 34, Epoch 10: Loss 1.9819\n",
      "Time step 34, Epoch 20: Loss 0.8511\n",
      "Time step 34, Epoch 30: Loss 0.4832\n",
      "Time step 34, Epoch 40: Loss 0.3182\n",
      "Time step 34, Epoch 50: Loss 0.2242\n",
      "Time step 34, Epoch 60: Loss 0.1740\n",
      "Time step 34, Epoch 70: Loss 0.1519\n",
      "Time step 34, Epoch 80: Loss 0.1239\n",
      "Time step 34, Epoch 90: Loss 0.1175\n",
      "Time step 34, Epoch 100: Loss 0.1041\n",
      "Time step 34, Epoch 110: Loss 0.0994\n",
      "Time step 34, Epoch 120: Loss 0.0824\n",
      "Time step 34, Epoch 130: Loss 0.0881\n",
      "Time step 34, Epoch 140: Loss 0.0906\n",
      "Time step 34, Epoch 150: Loss 0.0752\n",
      "Time step 34, Epoch 160: Loss 0.0725\n",
      "Time step 34, Epoch 170: Loss 0.0702\n",
      "Time step 34, Epoch 180: Loss 0.0615\n",
      "Time step 34, Epoch 190: Loss 0.0514\n",
      "Time step 34, Epoch 200: Loss 0.0569\n",
      "Time step 34, Epoch 210: Loss 0.0552\n",
      "Time step 34, Epoch 220: Loss 0.0421\n",
      "Time step 34, Epoch 230: Loss 0.0481\n",
      "Time step 34, Epoch 240: Loss 0.0442\n",
      "Time step 34, Epoch 250: Loss 0.0381\n",
      "Time step 34, Epoch 260: Loss 0.0374\n",
      "Time step 34, Epoch 270: Loss 0.0305\n",
      "Time step 34, Epoch 280: Loss 0.0382\n",
      "Time step 34, Epoch 290: Loss 0.0379\n",
      "Time step 34, Epoch 300: Loss 0.0352\n",
      "Time step 34, Epoch 310: Loss 0.0342\n",
      "Time step 34, Epoch 320: Loss 0.0269\n",
      "Time step 34, Epoch 330: Loss 0.0303\n",
      "Time step 34, Epoch 340: Loss 0.0272\n",
      "Time step 34, Epoch 350: Loss 0.0259\n",
      "Time step 34, Epoch 360: Loss 0.0223\n",
      "Time step 34, Epoch 370: Loss 0.0267\n",
      "Time step 34, Epoch 380: Loss 0.0207\n",
      "Time step 34, Epoch 390: Loss 0.0214\n"
     ]
    },
    {
     "name": "stderr",
     "output_type": "stream",
     "text": [
      "GCN Embeddings:  69%|██████████████████████████████████████▊                 | 34/49 [04:38<01:44,  6.98s/it]/Users/nick/AML/src/features/network_features.py:196: UserWarning: To copy construct from a tensor, it is recommended to use sourceTensor.detach().clone() or sourceTensor.detach().clone().requires_grad_(True), rather than torch.tensor(sourceTensor).\n",
      "  train_mask = torch.tensor(train_mask, dtype=torch.bool)\n"
     ]
    },
    {
     "name": "stdout",
     "output_type": "stream",
     "text": [
      "Time step 35, Epoch 0: Loss 5.0665\n",
      "Time step 35, Epoch 10: Loss 2.0627\n",
      "Time step 35, Epoch 20: Loss 1.0596\n",
      "Time step 35, Epoch 30: Loss 0.6513\n",
      "Time step 35, Epoch 40: Loss 0.4409\n",
      "Time step 35, Epoch 50: Loss 0.3358\n",
      "Time step 35, Epoch 60: Loss 0.2812\n",
      "Time step 35, Epoch 70: Loss 0.2521\n",
      "Time step 35, Epoch 80: Loss 0.2598\n",
      "Time step 35, Epoch 90: Loss 0.2124\n",
      "Time step 35, Epoch 100: Loss 0.1976\n",
      "Time step 35, Epoch 110: Loss 0.1883\n",
      "Time step 35, Epoch 120: Loss 0.1817\n",
      "Time step 35, Epoch 130: Loss 0.1762\n",
      "Time step 35, Epoch 140: Loss 0.1669\n",
      "Time step 35, Epoch 150: Loss 0.1629\n",
      "Time step 35, Epoch 160: Loss 0.1615\n",
      "Time step 35, Epoch 170: Loss 0.1403\n",
      "Time step 35, Epoch 180: Loss 0.1395\n",
      "Time step 35, Epoch 190: Loss 0.1342\n",
      "Time step 35, Epoch 200: Loss 0.1382\n",
      "Time step 35, Epoch 210: Loss 0.1141\n",
      "Time step 35, Epoch 220: Loss 0.1194\n",
      "Time step 35, Epoch 230: Loss 0.1189\n",
      "Time step 35, Epoch 240: Loss 0.1099\n",
      "Time step 35, Epoch 250: Loss 0.1117\n",
      "Time step 35, Epoch 260: Loss 0.1110\n",
      "Time step 35, Epoch 270: Loss 0.1022\n",
      "Time step 35, Epoch 280: Loss 0.1040\n",
      "Time step 35, Epoch 290: Loss 0.0965\n",
      "Time step 35, Epoch 300: Loss 0.0947\n",
      "Time step 35, Epoch 310: Loss 0.0945\n",
      "Time step 35, Epoch 320: Loss 0.0893\n",
      "Time step 35, Epoch 330: Loss 0.0827\n",
      "Time step 35, Epoch 340: Loss 0.0850\n",
      "Time step 35, Epoch 350: Loss 0.0808\n",
      "Time step 35, Epoch 360: Loss 0.0763\n",
      "Time step 35, Epoch 370: Loss 0.0780\n",
      "Time step 35, Epoch 380: Loss 0.0838\n",
      "Time step 35, Epoch 390: Loss 0.0718\n"
     ]
    },
    {
     "name": "stderr",
     "output_type": "stream",
     "text": [
      "GCN Embeddings:  71%|████████████████████████████████████████                | 35/49 [04:48<01:52,  8.04s/it]/Users/nick/AML/src/features/network_features.py:196: UserWarning: To copy construct from a tensor, it is recommended to use sourceTensor.detach().clone() or sourceTensor.detach().clone().requires_grad_(True), rather than torch.tensor(sourceTensor).\n",
      "  train_mask = torch.tensor(train_mask, dtype=torch.bool)\n"
     ]
    },
    {
     "name": "stdout",
     "output_type": "stream",
     "text": [
      "Time step 36, Epoch 0: Loss 7.2289\n",
      "Time step 36, Epoch 10: Loss 1.8522\n",
      "Time step 36, Epoch 20: Loss 0.7379\n",
      "Time step 36, Epoch 30: Loss 0.4186\n",
      "Time step 36, Epoch 40: Loss 0.2765\n",
      "Time step 36, Epoch 50: Loss 0.2124\n",
      "Time step 36, Epoch 60: Loss 0.1695\n",
      "Time step 36, Epoch 70: Loss 0.1459\n",
      "Time step 36, Epoch 80: Loss 0.1259\n",
      "Time step 36, Epoch 90: Loss 0.1201\n",
      "Time step 36, Epoch 100: Loss 0.1009\n",
      "Time step 36, Epoch 110: Loss 0.0964\n",
      "Time step 36, Epoch 120: Loss 0.0914\n",
      "Time step 36, Epoch 130: Loss 0.0867\n",
      "Time step 36, Epoch 140: Loss 0.0815\n",
      "Time step 36, Epoch 150: Loss 0.0827\n",
      "Time step 36, Epoch 160: Loss 0.0811\n",
      "Time step 36, Epoch 170: Loss 0.0729\n",
      "Time step 36, Epoch 180: Loss 0.0719\n",
      "Time step 36, Epoch 190: Loss 0.0624\n",
      "Time step 36, Epoch 200: Loss 0.0625\n",
      "Time step 36, Epoch 210: Loss 0.0636\n",
      "Time step 36, Epoch 220: Loss 0.0598\n",
      "Time step 36, Epoch 230: Loss 0.0581\n",
      "Time step 36, Epoch 240: Loss 0.0574\n",
      "Time step 36, Epoch 250: Loss 0.0557\n",
      "Time step 36, Epoch 260: Loss 0.0489\n",
      "Time step 36, Epoch 270: Loss 0.0486\n",
      "Time step 36, Epoch 280: Loss 0.0460\n",
      "Time step 36, Epoch 290: Loss 0.0478\n",
      "Time step 36, Epoch 300: Loss 0.0452\n",
      "Time step 36, Epoch 310: Loss 0.0470\n",
      "Time step 36, Epoch 320: Loss 0.0434\n",
      "Time step 36, Epoch 330: Loss 0.0379\n",
      "Time step 36, Epoch 340: Loss 0.0380\n",
      "Time step 36, Epoch 350: Loss 0.0383\n",
      "Time step 36, Epoch 360: Loss 0.0380\n",
      "Time step 36, Epoch 370: Loss 0.0345\n",
      "Time step 36, Epoch 380: Loss 0.0339\n",
      "Time step 36, Epoch 390: Loss 0.0324\n"
     ]
    },
    {
     "name": "stderr",
     "output_type": "stream",
     "text": [
      "GCN Embeddings:  73%|█████████████████████████████████████████▏              | 36/49 [05:00<01:57,  9.04s/it]/Users/nick/AML/src/features/network_features.py:196: UserWarning: To copy construct from a tensor, it is recommended to use sourceTensor.detach().clone() or sourceTensor.detach().clone().requires_grad_(True), rather than torch.tensor(sourceTensor).\n",
      "  train_mask = torch.tensor(train_mask, dtype=torch.bool)\n"
     ]
    },
    {
     "name": "stdout",
     "output_type": "stream",
     "text": [
      "Time step 37, Epoch 0: Loss 6.3150\n",
      "Time step 37, Epoch 10: Loss 1.6268\n",
      "Time step 37, Epoch 20: Loss 0.7881\n",
      "Time step 37, Epoch 30: Loss 0.4492\n",
      "Time step 37, Epoch 40: Loss 0.3087\n",
      "Time step 37, Epoch 50: Loss 0.2424\n",
      "Time step 37, Epoch 60: Loss 0.1794\n",
      "Time step 37, Epoch 70: Loss 0.1852\n",
      "Time step 37, Epoch 80: Loss 0.1538\n",
      "Time step 37, Epoch 90: Loss 0.1184\n",
      "Time step 37, Epoch 100: Loss 0.1140\n",
      "Time step 37, Epoch 110: Loss 0.0983\n",
      "Time step 37, Epoch 120: Loss 0.0893\n",
      "Time step 37, Epoch 130: Loss 0.1002\n",
      "Time step 37, Epoch 140: Loss 0.0858\n",
      "Time step 37, Epoch 150: Loss 0.0806\n",
      "Time step 37, Epoch 160: Loss 0.0742\n",
      "Time step 37, Epoch 170: Loss 0.0656\n",
      "Time step 37, Epoch 180: Loss 0.0694\n",
      "Time step 37, Epoch 190: Loss 0.0548\n",
      "Time step 37, Epoch 200: Loss 0.0731\n",
      "Time step 37, Epoch 210: Loss 0.0533\n",
      "Time step 37, Epoch 220: Loss 0.0544\n",
      "Time step 37, Epoch 230: Loss 0.0544\n",
      "Time step 37, Epoch 240: Loss 0.0497\n",
      "Time step 37, Epoch 250: Loss 0.0469\n",
      "Time step 37, Epoch 260: Loss 0.0423\n",
      "Time step 37, Epoch 270: Loss 0.0429\n",
      "Time step 37, Epoch 280: Loss 0.0325\n",
      "Time step 37, Epoch 290: Loss 0.0405\n",
      "Time step 37, Epoch 300: Loss 0.0369\n",
      "Time step 37, Epoch 310: Loss 0.0299\n",
      "Time step 37, Epoch 320: Loss 0.0430\n",
      "Time step 37, Epoch 330: Loss 0.0346\n",
      "Time step 37, Epoch 340: Loss 0.0331\n",
      "Time step 37, Epoch 350: Loss 0.0351\n",
      "Time step 37, Epoch 360: Loss 0.0256\n",
      "Time step 37, Epoch 370: Loss 0.0276\n",
      "Time step 37, Epoch 380: Loss 0.0298\n"
     ]
    },
    {
     "name": "stderr",
     "output_type": "stream",
     "text": [
      "GCN Embeddings:  76%|██████████████████████████████████████████▎             | 37/49 [05:07<01:43,  8.60s/it]"
     ]
    },
    {
     "name": "stdout",
     "output_type": "stream",
     "text": [
      "Time step 37, Epoch 390: Loss 0.0339\n"
     ]
    },
    {
     "name": "stderr",
     "output_type": "stream",
     "text": [
      "/Users/nick/AML/src/features/network_features.py:196: UserWarning: To copy construct from a tensor, it is recommended to use sourceTensor.detach().clone() or sourceTensor.detach().clone().requires_grad_(True), rather than torch.tensor(sourceTensor).\n",
      "  train_mask = torch.tensor(train_mask, dtype=torch.bool)\n"
     ]
    },
    {
     "name": "stdout",
     "output_type": "stream",
     "text": [
      "Time step 38, Epoch 0: Loss 4.0038\n",
      "Time step 38, Epoch 10: Loss 1.3933\n",
      "Time step 38, Epoch 20: Loss 0.6192\n",
      "Time step 38, Epoch 30: Loss 0.3406\n",
      "Time step 38, Epoch 40: Loss 0.2453\n",
      "Time step 38, Epoch 50: Loss 0.1879\n",
      "Time step 38, Epoch 60: Loss 0.1750\n",
      "Time step 38, Epoch 70: Loss 0.1609\n",
      "Time step 38, Epoch 80: Loss 0.1476\n",
      "Time step 38, Epoch 90: Loss 0.1276\n",
      "Time step 38, Epoch 100: Loss 0.1302\n",
      "Time step 38, Epoch 110: Loss 0.1187\n",
      "Time step 38, Epoch 120: Loss 0.1096\n",
      "Time step 38, Epoch 130: Loss 0.1096\n",
      "Time step 38, Epoch 140: Loss 0.1067\n",
      "Time step 38, Epoch 150: Loss 0.1021\n",
      "Time step 38, Epoch 160: Loss 0.1007\n",
      "Time step 38, Epoch 170: Loss 0.0876\n",
      "Time step 38, Epoch 180: Loss 0.0852\n",
      "Time step 38, Epoch 190: Loss 0.0895\n",
      "Time step 38, Epoch 200: Loss 0.0828\n",
      "Time step 38, Epoch 210: Loss 0.0731\n",
      "Time step 38, Epoch 220: Loss 0.0701\n",
      "Time step 38, Epoch 230: Loss 0.0674\n",
      "Time step 38, Epoch 240: Loss 0.0641\n",
      "Time step 38, Epoch 250: Loss 0.0591\n",
      "Time step 38, Epoch 260: Loss 0.0544\n",
      "Time step 38, Epoch 270: Loss 0.0596\n",
      "Time step 38, Epoch 280: Loss 0.0527\n",
      "Time step 38, Epoch 290: Loss 0.0547\n",
      "Time step 38, Epoch 300: Loss 0.0583\n",
      "Time step 38, Epoch 310: Loss 0.0492\n",
      "Time step 38, Epoch 320: Loss 0.0496\n",
      "Time step 38, Epoch 330: Loss 0.0474\n",
      "Time step 38, Epoch 340: Loss 0.0393\n",
      "Time step 38, Epoch 350: Loss 0.0439\n",
      "Time step 38, Epoch 360: Loss 0.0399\n",
      "Time step 38, Epoch 370: Loss 0.0396\n",
      "Time step 38, Epoch 380: Loss 0.0389\n"
     ]
    },
    {
     "name": "stderr",
     "output_type": "stream",
     "text": [
      "GCN Embeddings:  78%|███████████████████████████████████████████▍            | 38/49 [05:14<01:28,  8.00s/it]"
     ]
    },
    {
     "name": "stdout",
     "output_type": "stream",
     "text": [
      "Time step 38, Epoch 390: Loss 0.0452\n"
     ]
    },
    {
     "name": "stderr",
     "output_type": "stream",
     "text": [
      "/Users/nick/AML/src/features/network_features.py:196: UserWarning: To copy construct from a tensor, it is recommended to use sourceTensor.detach().clone() or sourceTensor.detach().clone().requires_grad_(True), rather than torch.tensor(sourceTensor).\n",
      "  train_mask = torch.tensor(train_mask, dtype=torch.bool)\n"
     ]
    },
    {
     "name": "stdout",
     "output_type": "stream",
     "text": [
      "Time step 39, Epoch 0: Loss 4.8463\n",
      "Time step 39, Epoch 10: Loss 1.3544\n",
      "Time step 39, Epoch 20: Loss 0.5833\n",
      "Time step 39, Epoch 30: Loss 0.2929\n",
      "Time step 39, Epoch 40: Loss 0.1811\n",
      "Time step 39, Epoch 50: Loss 0.1271\n",
      "Time step 39, Epoch 60: Loss 0.1062\n",
      "Time step 39, Epoch 70: Loss 0.0839\n",
      "Time step 39, Epoch 80: Loss 0.0741\n",
      "Time step 39, Epoch 90: Loss 0.0639\n",
      "Time step 39, Epoch 100: Loss 0.0716\n",
      "Time step 39, Epoch 110: Loss 0.0615\n",
      "Time step 39, Epoch 120: Loss 0.0499\n",
      "Time step 39, Epoch 130: Loss 0.0459\n",
      "Time step 39, Epoch 140: Loss 0.0443\n",
      "Time step 39, Epoch 150: Loss 0.0397\n",
      "Time step 39, Epoch 160: Loss 0.0397\n",
      "Time step 39, Epoch 170: Loss 0.0386\n",
      "Time step 39, Epoch 180: Loss 0.0351\n",
      "Time step 39, Epoch 190: Loss 0.0374\n",
      "Time step 39, Epoch 200: Loss 0.0308\n",
      "Time step 39, Epoch 210: Loss 0.0346\n",
      "Time step 39, Epoch 220: Loss 0.0294\n",
      "Time step 39, Epoch 230: Loss 0.0316\n",
      "Time step 39, Epoch 240: Loss 0.0304\n",
      "Time step 39, Epoch 250: Loss 0.0252\n",
      "Time step 39, Epoch 260: Loss 0.0267\n",
      "Time step 39, Epoch 270: Loss 0.0247\n",
      "Time step 39, Epoch 280: Loss 0.0221\n",
      "Time step 39, Epoch 290: Loss 0.0263\n",
      "Time step 39, Epoch 300: Loss 0.0222\n",
      "Time step 39, Epoch 310: Loss 0.0226\n",
      "Time step 39, Epoch 320: Loss 0.0225\n",
      "Time step 39, Epoch 330: Loss 0.0244\n",
      "Time step 39, Epoch 340: Loss 0.0199\n",
      "Time step 39, Epoch 350: Loss 0.0189\n",
      "Time step 39, Epoch 360: Loss 0.0205\n",
      "Time step 39, Epoch 370: Loss 0.0178\n",
      "Time step 39, Epoch 380: Loss 0.0156\n"
     ]
    },
    {
     "name": "stderr",
     "output_type": "stream",
     "text": [
      "GCN Embeddings:  80%|████████████████████████████████████████████▌           | 39/49 [05:21<01:15,  7.57s/it]"
     ]
    },
    {
     "name": "stdout",
     "output_type": "stream",
     "text": [
      "Time step 39, Epoch 390: Loss 0.0153\n"
     ]
    },
    {
     "name": "stderr",
     "output_type": "stream",
     "text": [
      "/Users/nick/AML/src/features/network_features.py:196: UserWarning: To copy construct from a tensor, it is recommended to use sourceTensor.detach().clone() or sourceTensor.detach().clone().requires_grad_(True), rather than torch.tensor(sourceTensor).\n",
      "  train_mask = torch.tensor(train_mask, dtype=torch.bool)\n"
     ]
    },
    {
     "name": "stdout",
     "output_type": "stream",
     "text": [
      "Time step 40, Epoch 0: Loss 4.8610\n",
      "Time step 40, Epoch 10: Loss 1.6963\n",
      "Time step 40, Epoch 20: Loss 0.8125\n",
      "Time step 40, Epoch 30: Loss 0.4831\n",
      "Time step 40, Epoch 40: Loss 0.3270\n",
      "Time step 40, Epoch 50: Loss 0.2664\n",
      "Time step 40, Epoch 60: Loss 0.2335\n",
      "Time step 40, Epoch 70: Loss 0.2087\n",
      "Time step 40, Epoch 80: Loss 0.1999\n",
      "Time step 40, Epoch 90: Loss 0.1785\n",
      "Time step 40, Epoch 100: Loss 0.1762\n",
      "Time step 40, Epoch 110: Loss 0.1593\n",
      "Time step 40, Epoch 120: Loss 0.1470\n",
      "Time step 40, Epoch 130: Loss 0.1441\n",
      "Time step 40, Epoch 140: Loss 0.1356\n",
      "Time step 40, Epoch 150: Loss 0.1254\n",
      "Time step 40, Epoch 160: Loss 0.1239\n",
      "Time step 40, Epoch 170: Loss 0.1170\n",
      "Time step 40, Epoch 180: Loss 0.1081\n",
      "Time step 40, Epoch 190: Loss 0.1103\n",
      "Time step 40, Epoch 200: Loss 0.1036\n",
      "Time step 40, Epoch 210: Loss 0.1027\n",
      "Time step 40, Epoch 220: Loss 0.0894\n",
      "Time step 40, Epoch 230: Loss 0.0841\n",
      "Time step 40, Epoch 240: Loss 0.0883\n",
      "Time step 40, Epoch 250: Loss 0.0870\n",
      "Time step 40, Epoch 260: Loss 0.0790\n",
      "Time step 40, Epoch 270: Loss 0.0731\n",
      "Time step 40, Epoch 280: Loss 0.0741\n",
      "Time step 40, Epoch 290: Loss 0.0660\n",
      "Time step 40, Epoch 300: Loss 0.0731\n",
      "Time step 40, Epoch 310: Loss 0.0649\n",
      "Time step 40, Epoch 320: Loss 0.0700\n",
      "Time step 40, Epoch 330: Loss 0.0536\n",
      "Time step 40, Epoch 340: Loss 0.0566\n",
      "Time step 40, Epoch 350: Loss 0.0540\n",
      "Time step 40, Epoch 360: Loss 0.0415\n",
      "Time step 40, Epoch 370: Loss 0.0499\n",
      "Time step 40, Epoch 380: Loss 0.0510\n",
      "Time step 40, Epoch 390: Loss 0.0505\n"
     ]
    },
    {
     "name": "stderr",
     "output_type": "stream",
     "text": [
      "GCN Embeddings:  82%|█████████████████████████████████████████████▋          | 40/49 [05:30<01:12,  8.09s/it]/Users/nick/AML/src/features/network_features.py:196: UserWarning: To copy construct from a tensor, it is recommended to use sourceTensor.detach().clone() or sourceTensor.detach().clone().requires_grad_(True), rather than torch.tensor(sourceTensor).\n",
      "  train_mask = torch.tensor(train_mask, dtype=torch.bool)\n"
     ]
    },
    {
     "name": "stdout",
     "output_type": "stream",
     "text": [
      "Time step 41, Epoch 0: Loss 4.4762\n",
      "Time step 41, Epoch 10: Loss 1.6070\n",
      "Time step 41, Epoch 20: Loss 0.8280\n",
      "Time step 41, Epoch 30: Loss 0.4671\n",
      "Time step 41, Epoch 40: Loss 0.3059\n",
      "Time step 41, Epoch 50: Loss 0.2653\n",
      "Time step 41, Epoch 60: Loss 0.1999\n",
      "Time step 41, Epoch 70: Loss 0.1996\n",
      "Time step 41, Epoch 80: Loss 0.1749\n",
      "Time step 41, Epoch 90: Loss 0.1538\n",
      "Time step 41, Epoch 100: Loss 0.1561\n",
      "Time step 41, Epoch 110: Loss 0.1413\n",
      "Time step 41, Epoch 120: Loss 0.1239\n",
      "Time step 41, Epoch 130: Loss 0.1275\n",
      "Time step 41, Epoch 140: Loss 0.1255\n",
      "Time step 41, Epoch 150: Loss 0.1147\n",
      "Time step 41, Epoch 160: Loss 0.1033\n",
      "Time step 41, Epoch 170: Loss 0.1016\n",
      "Time step 41, Epoch 180: Loss 0.0946\n",
      "Time step 41, Epoch 190: Loss 0.0934\n",
      "Time step 41, Epoch 200: Loss 0.0884\n",
      "Time step 41, Epoch 210: Loss 0.0832\n",
      "Time step 41, Epoch 220: Loss 0.0882\n",
      "Time step 41, Epoch 230: Loss 0.0803\n",
      "Time step 41, Epoch 240: Loss 0.0755\n",
      "Time step 41, Epoch 250: Loss 0.0789\n",
      "Time step 41, Epoch 260: Loss 0.0669\n",
      "Time step 41, Epoch 270: Loss 0.0659\n",
      "Time step 41, Epoch 280: Loss 0.0630\n",
      "Time step 41, Epoch 290: Loss 0.0641\n",
      "Time step 41, Epoch 300: Loss 0.0591\n",
      "Time step 41, Epoch 310: Loss 0.0585\n",
      "Time step 41, Epoch 320: Loss 0.0507\n",
      "Time step 41, Epoch 330: Loss 0.0555\n",
      "Time step 41, Epoch 340: Loss 0.0536\n",
      "Time step 41, Epoch 350: Loss 0.0564\n",
      "Time step 41, Epoch 360: Loss 0.0544\n",
      "Time step 41, Epoch 370: Loss 0.0512\n",
      "Time step 41, Epoch 380: Loss 0.0481\n",
      "Time step 41, Epoch 390: Loss 0.0461\n"
     ]
    },
    {
     "name": "stderr",
     "output_type": "stream",
     "text": [
      "GCN Embeddings:  84%|██████████████████████████████████████████████▊         | 41/49 [05:41<01:11,  8.88s/it]/Users/nick/AML/src/features/network_features.py:196: UserWarning: To copy construct from a tensor, it is recommended to use sourceTensor.detach().clone() or sourceTensor.detach().clone().requires_grad_(True), rather than torch.tensor(sourceTensor).\n",
      "  train_mask = torch.tensor(train_mask, dtype=torch.bool)\n"
     ]
    },
    {
     "name": "stdout",
     "output_type": "stream",
     "text": [
      "Time step 42, Epoch 0: Loss 4.6100\n",
      "Time step 42, Epoch 10: Loss 1.9229\n",
      "Time step 42, Epoch 20: Loss 0.8347\n",
      "Time step 42, Epoch 30: Loss 0.5019\n",
      "Time step 42, Epoch 40: Loss 0.3573\n",
      "Time step 42, Epoch 50: Loss 0.2928\n",
      "Time step 42, Epoch 60: Loss 0.2499\n",
      "Time step 42, Epoch 70: Loss 0.2401\n",
      "Time step 42, Epoch 80: Loss 0.2077\n",
      "Time step 42, Epoch 90: Loss 0.2107\n",
      "Time step 42, Epoch 100: Loss 0.1855\n",
      "Time step 42, Epoch 110: Loss 0.1770\n",
      "Time step 42, Epoch 120: Loss 0.1675\n",
      "Time step 42, Epoch 130: Loss 0.1603\n",
      "Time step 42, Epoch 140: Loss 0.1569\n",
      "Time step 42, Epoch 150: Loss 0.1549\n",
      "Time step 42, Epoch 160: Loss 0.1394\n",
      "Time step 42, Epoch 170: Loss 0.1412\n",
      "Time step 42, Epoch 180: Loss 0.1340\n",
      "Time step 42, Epoch 190: Loss 0.1359\n",
      "Time step 42, Epoch 200: Loss 0.1258\n",
      "Time step 42, Epoch 210: Loss 0.1192\n",
      "Time step 42, Epoch 220: Loss 0.1156\n",
      "Time step 42, Epoch 230: Loss 0.1147\n",
      "Time step 42, Epoch 240: Loss 0.1138\n",
      "Time step 42, Epoch 250: Loss 0.1010\n",
      "Time step 42, Epoch 260: Loss 0.0991\n",
      "Time step 42, Epoch 270: Loss 0.1066\n",
      "Time step 42, Epoch 280: Loss 0.0934\n",
      "Time step 42, Epoch 290: Loss 0.0928\n",
      "Time step 42, Epoch 300: Loss 0.0992\n",
      "Time step 42, Epoch 310: Loss 0.0887\n",
      "Time step 42, Epoch 320: Loss 0.0911\n",
      "Time step 42, Epoch 330: Loss 0.0870\n",
      "Time step 42, Epoch 340: Loss 0.0747\n",
      "Time step 42, Epoch 350: Loss 0.0886\n",
      "Time step 42, Epoch 360: Loss 0.0722\n",
      "Time step 42, Epoch 370: Loss 0.0783\n",
      "Time step 42, Epoch 380: Loss 0.0729\n",
      "Time step 42, Epoch 390: Loss 0.0717\n"
     ]
    },
    {
     "name": "stderr",
     "output_type": "stream",
     "text": [
      "GCN Embeddings:  86%|████████████████████████████████████████████████        | 42/49 [05:51<01:04,  9.26s/it]/Users/nick/AML/src/features/network_features.py:196: UserWarning: To copy construct from a tensor, it is recommended to use sourceTensor.detach().clone() or sourceTensor.detach().clone().requires_grad_(True), rather than torch.tensor(sourceTensor).\n",
      "  train_mask = torch.tensor(train_mask, dtype=torch.bool)\n"
     ]
    },
    {
     "name": "stdout",
     "output_type": "stream",
     "text": [
      "Time step 43, Epoch 0: Loss 6.2959\n",
      "Time step 43, Epoch 10: Loss 2.2204\n",
      "Time step 43, Epoch 20: Loss 0.6478\n",
      "Time step 43, Epoch 30: Loss 0.3052\n",
      "Time step 43, Epoch 40: Loss 0.1826\n",
      "Time step 43, Epoch 50: Loss 0.1314\n",
      "Time step 43, Epoch 60: Loss 0.1061\n",
      "Time step 43, Epoch 70: Loss 0.0993\n",
      "Time step 43, Epoch 80: Loss 0.0841\n",
      "Time step 43, Epoch 90: Loss 0.0760\n",
      "Time step 43, Epoch 100: Loss 0.0632\n",
      "Time step 43, Epoch 110: Loss 0.0606\n",
      "Time step 43, Epoch 120: Loss 0.0589\n",
      "Time step 43, Epoch 130: Loss 0.0515\n",
      "Time step 43, Epoch 140: Loss 0.0443\n",
      "Time step 43, Epoch 150: Loss 0.0440\n",
      "Time step 43, Epoch 160: Loss 0.0403\n",
      "Time step 43, Epoch 170: Loss 0.0391\n",
      "Time step 43, Epoch 180: Loss 0.0374\n",
      "Time step 43, Epoch 190: Loss 0.0355\n",
      "Time step 43, Epoch 200: Loss 0.0325\n",
      "Time step 43, Epoch 210: Loss 0.0318\n",
      "Time step 43, Epoch 220: Loss 0.0239\n",
      "Time step 43, Epoch 230: Loss 0.0217\n",
      "Time step 43, Epoch 240: Loss 0.0225\n",
      "Time step 43, Epoch 250: Loss 0.0229\n",
      "Time step 43, Epoch 260: Loss 0.0185\n",
      "Time step 43, Epoch 270: Loss 0.0167\n",
      "Time step 43, Epoch 280: Loss 0.0165\n",
      "Time step 43, Epoch 290: Loss 0.0176\n",
      "Time step 43, Epoch 300: Loss 0.0125\n",
      "Time step 43, Epoch 310: Loss 0.0156\n",
      "Time step 43, Epoch 320: Loss 0.0133\n",
      "Time step 43, Epoch 330: Loss 0.0135\n",
      "Time step 43, Epoch 340: Loss 0.0118\n",
      "Time step 43, Epoch 350: Loss 0.0111\n",
      "Time step 43, Epoch 360: Loss 0.0121\n",
      "Time step 43, Epoch 370: Loss 0.0107\n",
      "Time step 43, Epoch 380: Loss 0.0107\n"
     ]
    },
    {
     "name": "stderr",
     "output_type": "stream",
     "text": [
      "GCN Embeddings:  88%|█████████████████████████████████████████████████▏      | 43/49 [05:59<00:53,  8.96s/it]"
     ]
    },
    {
     "name": "stdout",
     "output_type": "stream",
     "text": [
      "Time step 43, Epoch 390: Loss 0.0132\n"
     ]
    },
    {
     "name": "stderr",
     "output_type": "stream",
     "text": [
      "/Users/nick/AML/src/features/network_features.py:196: UserWarning: To copy construct from a tensor, it is recommended to use sourceTensor.detach().clone() or sourceTensor.detach().clone().requires_grad_(True), rather than torch.tensor(sourceTensor).\n",
      "  train_mask = torch.tensor(train_mask, dtype=torch.bool)\n"
     ]
    },
    {
     "name": "stdout",
     "output_type": "stream",
     "text": [
      "Time step 44, Epoch 0: Loss 4.4196\n",
      "Time step 44, Epoch 10: Loss 1.8647\n",
      "Time step 44, Epoch 20: Loss 0.6931\n",
      "Time step 44, Epoch 30: Loss 0.3009\n",
      "Time step 44, Epoch 40: Loss 0.1832\n",
      "Time step 44, Epoch 50: Loss 0.1365\n",
      "Time step 44, Epoch 60: Loss 0.1135\n",
      "Time step 44, Epoch 70: Loss 0.1120\n",
      "Time step 44, Epoch 80: Loss 0.0940\n",
      "Time step 44, Epoch 90: Loss 0.0861\n",
      "Time step 44, Epoch 100: Loss 0.0803\n",
      "Time step 44, Epoch 110: Loss 0.0776\n",
      "Time step 44, Epoch 120: Loss 0.0739\n",
      "Time step 44, Epoch 130: Loss 0.0727\n",
      "Time step 44, Epoch 140: Loss 0.0685\n",
      "Time step 44, Epoch 150: Loss 0.0578\n",
      "Time step 44, Epoch 160: Loss 0.0588\n",
      "Time step 44, Epoch 170: Loss 0.0490\n",
      "Time step 44, Epoch 180: Loss 0.0488\n",
      "Time step 44, Epoch 190: Loss 0.0459\n",
      "Time step 44, Epoch 200: Loss 0.0438\n",
      "Time step 44, Epoch 210: Loss 0.0408\n",
      "Time step 44, Epoch 220: Loss 0.0384\n",
      "Time step 44, Epoch 230: Loss 0.0383\n",
      "Time step 44, Epoch 240: Loss 0.0369\n",
      "Time step 44, Epoch 250: Loss 0.0315\n",
      "Time step 44, Epoch 260: Loss 0.0310\n",
      "Time step 44, Epoch 270: Loss 0.0291\n",
      "Time step 44, Epoch 280: Loss 0.0294\n",
      "Time step 44, Epoch 290: Loss 0.0257\n",
      "Time step 44, Epoch 300: Loss 0.0269\n",
      "Time step 44, Epoch 310: Loss 0.0219\n",
      "Time step 44, Epoch 320: Loss 0.0221\n",
      "Time step 44, Epoch 330: Loss 0.0249\n",
      "Time step 44, Epoch 340: Loss 0.0244\n",
      "Time step 44, Epoch 350: Loss 0.0199\n",
      "Time step 44, Epoch 360: Loss 0.0208\n",
      "Time step 44, Epoch 370: Loss 0.0208\n",
      "Time step 44, Epoch 380: Loss 0.0184\n",
      "Time step 44, Epoch 390: Loss 0.0199\n"
     ]
    },
    {
     "name": "stderr",
     "output_type": "stream",
     "text": [
      "GCN Embeddings:  90%|██████████████████████████████████████████████████▎     | 44/49 [06:08<00:44,  8.86s/it]/Users/nick/AML/src/features/network_features.py:196: UserWarning: To copy construct from a tensor, it is recommended to use sourceTensor.detach().clone() or sourceTensor.detach().clone().requires_grad_(True), rather than torch.tensor(sourceTensor).\n",
      "  train_mask = torch.tensor(train_mask, dtype=torch.bool)\n"
     ]
    },
    {
     "name": "stdout",
     "output_type": "stream",
     "text": [
      "Time step 45, Epoch 0: Loss 4.8136\n",
      "Time step 45, Epoch 10: Loss 1.5187\n",
      "Time step 45, Epoch 20: Loss 0.6279\n",
      "Time step 45, Epoch 30: Loss 0.3023\n",
      "Time step 45, Epoch 40: Loss 0.1673\n",
      "Time step 45, Epoch 50: Loss 0.0997\n",
      "Time step 45, Epoch 60: Loss 0.0759\n",
      "Time step 45, Epoch 70: Loss 0.0519\n",
      "Time step 45, Epoch 80: Loss 0.0422\n",
      "Time step 45, Epoch 90: Loss 0.0348\n",
      "Time step 45, Epoch 100: Loss 0.0259\n",
      "Time step 45, Epoch 110: Loss 0.0235\n",
      "Time step 45, Epoch 120: Loss 0.0181\n",
      "Time step 45, Epoch 130: Loss 0.0203\n",
      "Time step 45, Epoch 140: Loss 0.0183\n",
      "Time step 45, Epoch 150: Loss 0.0166\n",
      "Time step 45, Epoch 160: Loss 0.0136\n",
      "Time step 45, Epoch 170: Loss 0.0121\n",
      "Time step 45, Epoch 180: Loss 0.0110\n",
      "Time step 45, Epoch 190: Loss 0.0103\n",
      "Time step 45, Epoch 200: Loss 0.0084\n",
      "Time step 45, Epoch 210: Loss 0.0080\n",
      "Time step 45, Epoch 220: Loss 0.0065\n",
      "Time step 45, Epoch 230: Loss 0.0062\n",
      "Time step 45, Epoch 240: Loss 0.0054\n",
      "Time step 45, Epoch 250: Loss 0.0065\n",
      "Time step 45, Epoch 260: Loss 0.0061\n",
      "Time step 45, Epoch 270: Loss 0.0048\n",
      "Time step 45, Epoch 280: Loss 0.0057\n",
      "Time step 45, Epoch 290: Loss 0.0059\n",
      "Time step 45, Epoch 300: Loss 0.0043\n",
      "Time step 45, Epoch 310: Loss 0.0051\n",
      "Time step 45, Epoch 320: Loss 0.0046\n",
      "Time step 45, Epoch 330: Loss 0.0036\n",
      "Time step 45, Epoch 340: Loss 0.0037\n",
      "Time step 45, Epoch 350: Loss 0.0033\n",
      "Time step 45, Epoch 360: Loss 0.0051\n",
      "Time step 45, Epoch 370: Loss 0.0034\n",
      "Time step 45, Epoch 380: Loss 0.0031\n",
      "Time step 45, Epoch 390: Loss 0.0048\n"
     ]
    },
    {
     "name": "stderr",
     "output_type": "stream",
     "text": [
      "GCN Embeddings:  92%|███████████████████████████████████████████████████▍    | 45/49 [06:18<00:37,  9.28s/it]/Users/nick/AML/src/features/network_features.py:196: UserWarning: To copy construct from a tensor, it is recommended to use sourceTensor.detach().clone() or sourceTensor.detach().clone().requires_grad_(True), rather than torch.tensor(sourceTensor).\n",
      "  train_mask = torch.tensor(train_mask, dtype=torch.bool)\n"
     ]
    },
    {
     "name": "stdout",
     "output_type": "stream",
     "text": [
      "Time step 46, Epoch 0: Loss 5.2462\n",
      "Time step 46, Epoch 10: Loss 1.3005\n",
      "Time step 46, Epoch 20: Loss 0.2251\n",
      "Time step 46, Epoch 30: Loss 0.0739\n",
      "Time step 46, Epoch 40: Loss 0.0314\n",
      "Time step 46, Epoch 50: Loss 0.0192\n",
      "Time step 46, Epoch 60: Loss 0.0126\n",
      "Time step 46, Epoch 70: Loss 0.0098\n",
      "Time step 46, Epoch 80: Loss 0.0084\n",
      "Time step 46, Epoch 90: Loss 0.0077\n",
      "Time step 46, Epoch 100: Loss 0.0069\n",
      "Time step 46, Epoch 110: Loss 0.0058\n",
      "Time step 46, Epoch 120: Loss 0.0051\n",
      "Time step 46, Epoch 130: Loss 0.0041\n",
      "Time step 46, Epoch 140: Loss 0.0039\n",
      "Time step 46, Epoch 150: Loss 0.0040\n",
      "Time step 46, Epoch 160: Loss 0.0031\n",
      "Time step 46, Epoch 170: Loss 0.0031\n",
      "Time step 46, Epoch 180: Loss 0.0038\n",
      "Time step 46, Epoch 190: Loss 0.0029\n",
      "Time step 46, Epoch 200: Loss 0.0040\n",
      "Time step 46, Epoch 210: Loss 0.0022\n",
      "Time step 46, Epoch 220: Loss 0.0017\n",
      "Time step 46, Epoch 230: Loss 0.0022\n",
      "Time step 46, Epoch 240: Loss 0.0023\n",
      "Time step 46, Epoch 250: Loss 0.0027\n",
      "Time step 46, Epoch 260: Loss 0.0013\n",
      "Time step 46, Epoch 270: Loss 0.0020\n",
      "Time step 46, Epoch 280: Loss 0.0016\n",
      "Time step 46, Epoch 290: Loss 0.0019\n",
      "Time step 46, Epoch 300: Loss 0.0018\n",
      "Time step 46, Epoch 310: Loss 0.0017\n",
      "Time step 46, Epoch 320: Loss 0.0013\n",
      "Time step 46, Epoch 330: Loss 0.0015\n",
      "Time step 46, Epoch 340: Loss 0.0011\n",
      "Time step 46, Epoch 350: Loss 0.0018\n",
      "Time step 46, Epoch 360: Loss 0.0012\n",
      "Time step 46, Epoch 370: Loss 0.0016\n",
      "Time step 46, Epoch 380: Loss 0.0013\n",
      "Time step 46, Epoch 390: Loss 0.0013\n"
     ]
    },
    {
     "name": "stderr",
     "output_type": "stream",
     "text": [
      "GCN Embeddings:  94%|████████████████████████████████████████████████████▌   | 46/49 [06:26<00:26,  8.87s/it]/Users/nick/AML/src/features/network_features.py:196: UserWarning: To copy construct from a tensor, it is recommended to use sourceTensor.detach().clone() or sourceTensor.detach().clone().requires_grad_(True), rather than torch.tensor(sourceTensor).\n",
      "  train_mask = torch.tensor(train_mask, dtype=torch.bool)\n"
     ]
    },
    {
     "name": "stdout",
     "output_type": "stream",
     "text": [
      "Time step 47, Epoch 0: Loss 4.9337\n",
      "Time step 47, Epoch 10: Loss 1.1468\n",
      "Time step 47, Epoch 20: Loss 0.4227\n",
      "Time step 47, Epoch 30: Loss 0.2409\n",
      "Time step 47, Epoch 40: Loss 0.1617\n",
      "Time step 47, Epoch 50: Loss 0.1250\n",
      "Time step 47, Epoch 60: Loss 0.0922\n",
      "Time step 47, Epoch 70: Loss 0.0838\n",
      "Time step 47, Epoch 80: Loss 0.0648\n",
      "Time step 47, Epoch 90: Loss 0.0614\n",
      "Time step 47, Epoch 100: Loss 0.0508\n",
      "Time step 47, Epoch 110: Loss 0.0502\n",
      "Time step 47, Epoch 120: Loss 0.0455\n",
      "Time step 47, Epoch 130: Loss 0.0427\n",
      "Time step 47, Epoch 140: Loss 0.0400\n",
      "Time step 47, Epoch 150: Loss 0.0336\n",
      "Time step 47, Epoch 160: Loss 0.0305\n",
      "Time step 47, Epoch 170: Loss 0.0270\n",
      "Time step 47, Epoch 180: Loss 0.0221\n",
      "Time step 47, Epoch 190: Loss 0.0227\n",
      "Time step 47, Epoch 200: Loss 0.0197\n",
      "Time step 47, Epoch 210: Loss 0.0157\n",
      "Time step 47, Epoch 220: Loss 0.0163\n",
      "Time step 47, Epoch 230: Loss 0.0179\n",
      "Time step 47, Epoch 240: Loss 0.0169\n",
      "Time step 47, Epoch 250: Loss 0.0148\n",
      "Time step 47, Epoch 260: Loss 0.0160\n",
      "Time step 47, Epoch 270: Loss 0.0119\n",
      "Time step 47, Epoch 280: Loss 0.0127\n",
      "Time step 47, Epoch 290: Loss 0.0150\n",
      "Time step 47, Epoch 300: Loss 0.0140\n",
      "Time step 47, Epoch 310: Loss 0.0120\n",
      "Time step 47, Epoch 320: Loss 0.0114\n",
      "Time step 47, Epoch 330: Loss 0.0099\n",
      "Time step 47, Epoch 340: Loss 0.0095\n",
      "Time step 47, Epoch 350: Loss 0.0106\n",
      "Time step 47, Epoch 360: Loss 0.0076\n",
      "Time step 47, Epoch 370: Loss 0.0075\n",
      "Time step 47, Epoch 380: Loss 0.0099\n",
      "Time step 47, Epoch 390: Loss 0.0068\n"
     ]
    },
    {
     "name": "stderr",
     "output_type": "stream",
     "text": [
      "GCN Embeddings:  96%|█████████████████████████████████████████████████████▋  | 47/49 [06:36<00:18,  9.11s/it]/Users/nick/AML/src/features/network_features.py:196: UserWarning: To copy construct from a tensor, it is recommended to use sourceTensor.detach().clone() or sourceTensor.detach().clone().requires_grad_(True), rather than torch.tensor(sourceTensor).\n",
      "  train_mask = torch.tensor(train_mask, dtype=torch.bool)\n"
     ]
    },
    {
     "name": "stdout",
     "output_type": "stream",
     "text": [
      "Time step 48, Epoch 0: Loss 8.8131\n",
      "Time step 48, Epoch 10: Loss 1.4921\n",
      "Time step 48, Epoch 20: Loss 0.5681\n",
      "Time step 48, Epoch 30: Loss 0.3163\n",
      "Time step 48, Epoch 40: Loss 0.2084\n",
      "Time step 48, Epoch 50: Loss 0.1545\n",
      "Time step 48, Epoch 60: Loss 0.1216\n",
      "Time step 48, Epoch 70: Loss 0.0900\n",
      "Time step 48, Epoch 80: Loss 0.0889\n",
      "Time step 48, Epoch 90: Loss 0.0773\n",
      "Time step 48, Epoch 100: Loss 0.0600\n",
      "Time step 48, Epoch 110: Loss 0.0485\n",
      "Time step 48, Epoch 120: Loss 0.0591\n",
      "Time step 48, Epoch 130: Loss 0.0409\n",
      "Time step 48, Epoch 140: Loss 0.0422\n",
      "Time step 48, Epoch 150: Loss 0.0403\n",
      "Time step 48, Epoch 160: Loss 0.0357\n",
      "Time step 48, Epoch 170: Loss 0.0341\n",
      "Time step 48, Epoch 180: Loss 0.0288\n",
      "Time step 48, Epoch 190: Loss 0.0233\n",
      "Time step 48, Epoch 200: Loss 0.0288\n",
      "Time step 48, Epoch 210: Loss 0.0197\n",
      "Time step 48, Epoch 220: Loss 0.0234\n",
      "Time step 48, Epoch 230: Loss 0.0228\n",
      "Time step 48, Epoch 240: Loss 0.0153\n",
      "Time step 48, Epoch 250: Loss 0.0148\n",
      "Time step 48, Epoch 260: Loss 0.0153\n",
      "Time step 48, Epoch 270: Loss 0.0122\n",
      "Time step 48, Epoch 280: Loss 0.0154\n",
      "Time step 48, Epoch 290: Loss 0.0136\n",
      "Time step 48, Epoch 300: Loss 0.0114\n",
      "Time step 48, Epoch 310: Loss 0.0112\n",
      "Time step 48, Epoch 320: Loss 0.0095\n",
      "Time step 48, Epoch 330: Loss 0.0089\n",
      "Time step 48, Epoch 340: Loss 0.0090\n",
      "Time step 48, Epoch 350: Loss 0.0091\n",
      "Time step 48, Epoch 360: Loss 0.0075\n",
      "Time step 48, Epoch 370: Loss 0.0093\n",
      "Time step 48, Epoch 380: Loss 0.0077\n"
     ]
    },
    {
     "name": "stderr",
     "output_type": "stream",
     "text": [
      "GCN Embeddings:  98%|██████████████████████████████████████████████████████▊ | 48/49 [06:43<00:08,  8.51s/it]"
     ]
    },
    {
     "name": "stdout",
     "output_type": "stream",
     "text": [
      "Time step 48, Epoch 390: Loss 0.0099\n"
     ]
    },
    {
     "name": "stderr",
     "output_type": "stream",
     "text": [
      "/Users/nick/AML/src/features/network_features.py:196: UserWarning: To copy construct from a tensor, it is recommended to use sourceTensor.detach().clone() or sourceTensor.detach().clone().requires_grad_(True), rather than torch.tensor(sourceTensor).\n",
      "  train_mask = torch.tensor(train_mask, dtype=torch.bool)\n"
     ]
    },
    {
     "name": "stdout",
     "output_type": "stream",
     "text": [
      "Time step 49, Epoch 0: Loss 5.1402\n",
      "Time step 49, Epoch 10: Loss 1.6031\n",
      "Time step 49, Epoch 20: Loss 0.5574\n",
      "Time step 49, Epoch 30: Loss 0.2959\n",
      "Time step 49, Epoch 40: Loss 0.1839\n",
      "Time step 49, Epoch 50: Loss 0.1354\n",
      "Time step 49, Epoch 60: Loss 0.1190\n",
      "Time step 49, Epoch 70: Loss 0.0952\n",
      "Time step 49, Epoch 80: Loss 0.0719\n",
      "Time step 49, Epoch 90: Loss 0.0628\n",
      "Time step 49, Epoch 100: Loss 0.0575\n",
      "Time step 49, Epoch 110: Loss 0.0483\n",
      "Time step 49, Epoch 120: Loss 0.0577\n",
      "Time step 49, Epoch 130: Loss 0.0400\n",
      "Time step 49, Epoch 140: Loss 0.0382\n",
      "Time step 49, Epoch 150: Loss 0.0296\n",
      "Time step 49, Epoch 160: Loss 0.0295\n",
      "Time step 49, Epoch 170: Loss 0.0285\n",
      "Time step 49, Epoch 180: Loss 0.0236\n",
      "Time step 49, Epoch 190: Loss 0.0247\n",
      "Time step 49, Epoch 200: Loss 0.0214\n",
      "Time step 49, Epoch 210: Loss 0.0167\n",
      "Time step 49, Epoch 220: Loss 0.0260\n",
      "Time step 49, Epoch 230: Loss 0.0197\n",
      "Time step 49, Epoch 240: Loss 0.0180\n",
      "Time step 49, Epoch 250: Loss 0.0153\n",
      "Time step 49, Epoch 260: Loss 0.0180\n",
      "Time step 49, Epoch 270: Loss 0.0098\n",
      "Time step 49, Epoch 280: Loss 0.0114\n",
      "Time step 49, Epoch 290: Loss 0.0174\n",
      "Time step 49, Epoch 300: Loss 0.0098\n",
      "Time step 49, Epoch 310: Loss 0.0101\n",
      "Time step 49, Epoch 320: Loss 0.0073\n",
      "Time step 49, Epoch 330: Loss 0.0105\n",
      "Time step 49, Epoch 340: Loss 0.0079\n",
      "Time step 49, Epoch 350: Loss 0.0092\n",
      "Time step 49, Epoch 360: Loss 0.0094\n",
      "Time step 49, Epoch 370: Loss 0.0073\n",
      "Time step 49, Epoch 380: Loss 0.0068\n"
     ]
    },
    {
     "name": "stderr",
     "output_type": "stream",
     "text": [
      "GCN Embeddings: 100%|████████████████████████████████████████████████████████| 49/49 [06:49<00:00,  8.36s/it]"
     ]
    },
    {
     "name": "stdout",
     "output_type": "stream",
     "text": [
      "Time step 49, Epoch 390: Loss 0.0088\n"
     ]
    },
    {
     "name": "stderr",
     "output_type": "stream",
     "text": [
      "\n"
     ]
    }
   ],
   "source": [
    "train_df = nodes_df.copy() \n",
    "train_df.loc[train_df['SET'].isin(['validation', 'test']), 'class_label'] = 'unknown'\n",
    "\n",
    "\n",
    "mps_device = torch.device(\"mps\")\n",
    "# 4. Train GCN models - they'll only learn from labeled nodes in train set\n",
    "feature_cols = [col for col in nodes_df.columns if col not in ['txId', 'time_step', 'class_label', 'SET']]\n",
    "train_embeddings, trained_models = train_gcn_get_embeddings(\n",
    "    train_df, \n",
    "    time_step_graphs,\n",
    "    feature_cols,\n",
    "    device=mps_device, \n",
    "    epochs=400\n",
    ")\n",
    "\n"
   ]
  },
  {
   "cell_type": "code",
   "execution_count": 10,
   "id": "ec62541c",
   "metadata": {},
   "outputs": [
    {
     "name": "stderr",
     "output_type": "stream",
     "text": [
      "Generating Embeddings: 100%|█████████████████████████████████████████████████| 49/49 [00:28<00:00,  1.72it/s]\n"
     ]
    }
   ],
   "source": [
    "all_embeddings = generate_embeddings(\n",
    "    nodes_df,\n",
    "    time_step_graphs,\n",
    "    feature_cols,\n",
    "    trained_models,\n",
    "    device=mps_device\n",
    ")\n",
    "\n"
   ]
  },
  {
   "cell_type": "code",
   "execution_count": 11,
   "id": "379ee7ce",
   "metadata": {},
   "outputs": [
    {
     "name": "stdout",
     "output_type": "stream",
     "text": [
      "Merging features...\n"
     ]
    }
   ],
   "source": [
    "# 5. Merge all features\n",
    "print(\"Merging features...\")\n",
    "final_df = nodes_df.merge(gw_features, on='txId', how='left')\n",
    "final_df = final_df.merge(all_embeddings, on='txId', how='left')\n",
    "final_df.to_parquet('data/processed/df_model.parquet', partition_cols='SET')"
   ]
  }
 ],
 "metadata": {
  "kernelspec": {
   "display_name": "Python 3 (ipykernel)",
   "language": "python",
   "name": "python3"
  },
  "language_info": {
   "codemirror_mode": {
    "name": "ipython",
    "version": 3
   },
   "file_extension": ".py",
   "mimetype": "text/x-python",
   "name": "python",
   "nbconvert_exporter": "python",
   "pygments_lexer": "ipython3",
   "version": "3.12.10"
  }
 },
 "nbformat": 4,
 "nbformat_minor": 5
}
